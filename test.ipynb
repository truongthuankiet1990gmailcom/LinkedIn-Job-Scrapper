{
 "cells": [
  {
   "cell_type": "code",
   "execution_count": 1,
   "id": "a1ef0f42",
   "metadata": {},
   "outputs": [
    {
     "name": "stdout",
     "output_type": "stream",
     "text": [
      "Dataset Shape: (60, 18)\n",
      "\n",
      "Column Names:\n",
      "['company', 'companyDetails/industry', 'companyDetails/size', 'companyDetails/website', 'companyLink', 'description', 'employmentType', 'experienceLevel', 'industry', 'jobLink', 'jobType', 'location', 'postDate', 'publisher/email', 'publisher/name', 'salary', 'title', 'workplaceType']\n",
      "\n",
      "First few rows:\n"
     ]
    },
    {
     "data": {
      "text/html": [
       "<div>\n",
       "<style scoped>\n",
       "    .dataframe tbody tr th:only-of-type {\n",
       "        vertical-align: middle;\n",
       "    }\n",
       "\n",
       "    .dataframe tbody tr th {\n",
       "        vertical-align: top;\n",
       "    }\n",
       "\n",
       "    .dataframe thead th {\n",
       "        text-align: right;\n",
       "    }\n",
       "</style>\n",
       "<table border=\"1\" class=\"dataframe\">\n",
       "  <thead>\n",
       "    <tr style=\"text-align: right;\">\n",
       "      <th></th>\n",
       "      <th>company</th>\n",
       "      <th>companyDetails/industry</th>\n",
       "      <th>companyDetails/size</th>\n",
       "      <th>companyDetails/website</th>\n",
       "      <th>companyLink</th>\n",
       "      <th>description</th>\n",
       "      <th>employmentType</th>\n",
       "      <th>experienceLevel</th>\n",
       "      <th>industry</th>\n",
       "      <th>jobLink</th>\n",
       "      <th>jobType</th>\n",
       "      <th>location</th>\n",
       "      <th>postDate</th>\n",
       "      <th>publisher/email</th>\n",
       "      <th>publisher/name</th>\n",
       "      <th>salary</th>\n",
       "      <th>title</th>\n",
       "      <th>workplaceType</th>\n",
       "    </tr>\n",
       "  </thead>\n",
       "  <tbody>\n",
       "    <tr>\n",
       "      <th>0</th>\n",
       "      <td>Procter &amp; Gamble</td>\n",
       "      <td>NaN</td>\n",
       "      <td>NaN</td>\n",
       "      <td>NaN</td>\n",
       "      <td>https://www.linkedin.com/company/procter-and-gamble?trk=public_jobs_jserp-result_job-search-card...</td>\n",
       "      <td>Job LocationHO CHI MINH CITY OFFICEJob DescriptionP&amp;G is a leading global consumer goods company...</td>\n",
       "      <td>Toàn thời gian</td>\n",
       "      <td>Not Applicable</td>\n",
       "      <td>NaN</td>\n",
       "      <td>https://vn.linkedin.com/jobs/view/analytics-manager-at-procter-gamble-4279878981?position=1&amp;page...</td>\n",
       "      <td>NaN</td>\n",
       "      <td>Ho Chi Minh City Metropolitan Area</td>\n",
       "      <td>2025-09-19</td>\n",
       "      <td>NaN</td>\n",
       "      <td>NaN</td>\n",
       "      <td>NaN</td>\n",
       "      <td>Analytics Manager</td>\n",
       "      <td>NaN</td>\n",
       "    </tr>\n",
       "    <tr>\n",
       "      <th>1</th>\n",
       "      <td>Google</td>\n",
       "      <td>NaN</td>\n",
       "      <td>NaN</td>\n",
       "      <td>NaN</td>\n",
       "      <td>https://www.linkedin.com/company/google?trk=public_jobs_jserp-result_job-search-card-subtitle</td>\n",
       "      <td>Google will be prioritizing applicants who have a current right to work in Singapore, and do not...</td>\n",
       "      <td>Toàn thời gian</td>\n",
       "      <td>Mid-Senior level</td>\n",
       "      <td>NaN</td>\n",
       "      <td>https://vn.linkedin.com/jobs/view/head-of-analytical-leads-planning-and-measurement-at-google-43...</td>\n",
       "      <td>NaN</td>\n",
       "      <td>Ho Chi Minh City, Ho Chi Minh City, Vietnam</td>\n",
       "      <td>2025-09-22</td>\n",
       "      <td>NaN</td>\n",
       "      <td>NaN</td>\n",
       "      <td>NaN</td>\n",
       "      <td>Head of Analytical Leads, Planning and Measurement</td>\n",
       "      <td>NaN</td>\n",
       "    </tr>\n",
       "    <tr>\n",
       "      <th>2</th>\n",
       "      <td>HEINEKEN Vietnam</td>\n",
       "      <td>NaN</td>\n",
       "      <td>NaN</td>\n",
       "      <td>NaN</td>\n",
       "      <td>https://vn.linkedin.com/company/heinekenvietnam?trk=public_jobs_jserp-result_job-search-card-sub...</td>\n",
       "      <td>As a Digital Product Intern at Heineken Vietnam, you will play a key supporting role in the deve...</td>\n",
       "      <td>Thực tập</td>\n",
       "      <td>Thực tập</td>\n",
       "      <td>NaN</td>\n",
       "      <td>https://vn.linkedin.com/jobs/view/digital-product-owner-intern-at-heineken-vietnam-4302169584?po...</td>\n",
       "      <td>NaN</td>\n",
       "      <td>Ho Chi Minh City, Vietnam</td>\n",
       "      <td>2025-09-18</td>\n",
       "      <td>NaN</td>\n",
       "      <td>NaN</td>\n",
       "      <td>NaN</td>\n",
       "      <td>Digital Product Owner Intern</td>\n",
       "      <td>NaN</td>\n",
       "    </tr>\n",
       "    <tr>\n",
       "      <th>3</th>\n",
       "      <td>ĐÚNG NGƯỜI ĐÚNG VIỆC Community</td>\n",
       "      <td>NaN</td>\n",
       "      <td>NaN</td>\n",
       "      <td>NaN</td>\n",
       "      <td>https://vn.linkedin.com/company/dungnguoidungviec?trk=public_jobs_jserp-result_job-search-card-s...</td>\n",
       "      <td>Mô tả công việcChúng tôi đang tìm kiếm một Kỹ sư Dữ liệu năng động, có ít nhất 1 năm kinh nghiệm...</td>\n",
       "      <td>Toàn thời gian</td>\n",
       "      <td>Entry level</td>\n",
       "      <td>NaN</td>\n",
       "      <td>https://vn.linkedin.com/jobs/view/data-analytics-at-%C4%91%C3%BAng-ng%C6%B0%E1%BB%9Di-%C4%91%C3%...</td>\n",
       "      <td>NaN</td>\n",
       "      <td>Phường Chí Minh, Hai Duong, Vietnam</td>\n",
       "      <td>2025-09-23</td>\n",
       "      <td>NaN</td>\n",
       "      <td>NaN</td>\n",
       "      <td>NaN</td>\n",
       "      <td>Data Analytics</td>\n",
       "      <td>NaN</td>\n",
       "    </tr>\n",
       "    <tr>\n",
       "      <th>4</th>\n",
       "      <td>Expeditors</td>\n",
       "      <td>NaN</td>\n",
       "      <td>NaN</td>\n",
       "      <td>NaN</td>\n",
       "      <td>https://www.linkedin.com/company/expeditors?trk=public_jobs_jserp-result_job-search-card-subtitle</td>\n",
       "      <td>Company DescriptionExpeditors is a global logistics company headquartered in Seattle, Washington...</td>\n",
       "      <td>Toàn thời gian</td>\n",
       "      <td>Entry level</td>\n",
       "      <td>NaN</td>\n",
       "      <td>https://vn.linkedin.com/jobs/view/agent-lead-agent-order-management-at-expeditors-4304886867?pos...</td>\n",
       "      <td>NaN</td>\n",
       "      <td>Ho Chi Minh City Metropolitan Area</td>\n",
       "      <td>2025-09-25</td>\n",
       "      <td>NaN</td>\n",
       "      <td>NaN</td>\n",
       "      <td>NaN</td>\n",
       "      <td>Agent/Lead Agent - Order Management</td>\n",
       "      <td>NaN</td>\n",
       "    </tr>\n",
       "  </tbody>\n",
       "</table>\n",
       "</div>"
      ],
      "text/plain": [
       "                          company  companyDetails/industry  \\\n",
       "0                Procter & Gamble                      NaN   \n",
       "1                          Google                      NaN   \n",
       "2                HEINEKEN Vietnam                      NaN   \n",
       "3  ĐÚNG NGƯỜI ĐÚNG VIỆC Community                      NaN   \n",
       "4                      Expeditors                      NaN   \n",
       "\n",
       "   companyDetails/size  companyDetails/website  \\\n",
       "0                  NaN                     NaN   \n",
       "1                  NaN                     NaN   \n",
       "2                  NaN                     NaN   \n",
       "3                  NaN                     NaN   \n",
       "4                  NaN                     NaN   \n",
       "\n",
       "                                                                                           companyLink  \\\n",
       "0  https://www.linkedin.com/company/procter-and-gamble?trk=public_jobs_jserp-result_job-search-card...   \n",
       "1        https://www.linkedin.com/company/google?trk=public_jobs_jserp-result_job-search-card-subtitle   \n",
       "2  https://vn.linkedin.com/company/heinekenvietnam?trk=public_jobs_jserp-result_job-search-card-sub...   \n",
       "3  https://vn.linkedin.com/company/dungnguoidungviec?trk=public_jobs_jserp-result_job-search-card-s...   \n",
       "4    https://www.linkedin.com/company/expeditors?trk=public_jobs_jserp-result_job-search-card-subtitle   \n",
       "\n",
       "                                                                                           description  \\\n",
       "0  Job LocationHO CHI MINH CITY OFFICEJob DescriptionP&G is a leading global consumer goods company...   \n",
       "1  Google will be prioritizing applicants who have a current right to work in Singapore, and do not...   \n",
       "2  As a Digital Product Intern at Heineken Vietnam, you will play a key supporting role in the deve...   \n",
       "3  Mô tả công việcChúng tôi đang tìm kiếm một Kỹ sư Dữ liệu năng động, có ít nhất 1 năm kinh nghiệm...   \n",
       "4  Company DescriptionExpeditors is a global logistics company headquartered in Seattle, Washington...   \n",
       "\n",
       "   employmentType   experienceLevel  industry  \\\n",
       "0  Toàn thời gian    Not Applicable       NaN   \n",
       "1  Toàn thời gian  Mid-Senior level       NaN   \n",
       "2        Thực tập          Thực tập       NaN   \n",
       "3  Toàn thời gian       Entry level       NaN   \n",
       "4  Toàn thời gian       Entry level       NaN   \n",
       "\n",
       "                                                                                               jobLink  \\\n",
       "0  https://vn.linkedin.com/jobs/view/analytics-manager-at-procter-gamble-4279878981?position=1&page...   \n",
       "1  https://vn.linkedin.com/jobs/view/head-of-analytical-leads-planning-and-measurement-at-google-43...   \n",
       "2  https://vn.linkedin.com/jobs/view/digital-product-owner-intern-at-heineken-vietnam-4302169584?po...   \n",
       "3  https://vn.linkedin.com/jobs/view/data-analytics-at-%C4%91%C3%BAng-ng%C6%B0%E1%BB%9Di-%C4%91%C3%...   \n",
       "4  https://vn.linkedin.com/jobs/view/agent-lead-agent-order-management-at-expeditors-4304886867?pos...   \n",
       "\n",
       "   jobType                                     location    postDate  \\\n",
       "0      NaN           Ho Chi Minh City Metropolitan Area  2025-09-19   \n",
       "1      NaN  Ho Chi Minh City, Ho Chi Minh City, Vietnam  2025-09-22   \n",
       "2      NaN                    Ho Chi Minh City, Vietnam  2025-09-18   \n",
       "3      NaN          Phường Chí Minh, Hai Duong, Vietnam  2025-09-23   \n",
       "4      NaN           Ho Chi Minh City Metropolitan Area  2025-09-25   \n",
       "\n",
       "   publisher/email  publisher/name  salary  \\\n",
       "0              NaN             NaN     NaN   \n",
       "1              NaN             NaN     NaN   \n",
       "2              NaN             NaN     NaN   \n",
       "3              NaN             NaN     NaN   \n",
       "4              NaN             NaN     NaN   \n",
       "\n",
       "                                                title  workplaceType  \n",
       "0                                   Analytics Manager            NaN  \n",
       "1  Head of Analytical Leads, Planning and Measurement            NaN  \n",
       "2                        Digital Product Owner Intern            NaN  \n",
       "3                                      Data Analytics            NaN  \n",
       "4                 Agent/Lead Agent - Order Management            NaN  "
      ]
     },
     "execution_count": 1,
     "metadata": {},
     "output_type": "execute_result"
    }
   ],
   "source": [
    "import pandas as pd\n",
    "import numpy as np\n",
    "import matplotlib.pyplot as plt\n",
    "import seaborn as sns\n",
    "import plotly.express as px\n",
    "import plotly.graph_objects as go\n",
    "from plotly.subplots import make_subplots\n",
    "import re\n",
    "from collections import Counter\n",
    "import warnings\n",
    "warnings.filterwarnings('ignore')\n",
    "\n",
    "# Set display options\n",
    "pd.set_option('display.max_columns', None)\n",
    "pd.set_option('display.max_colwidth', 100)\n",
    "\n",
    "# Load the dataset\n",
    "df = pd.read_csv('dataset_fast-linkedin-jobs-scraper_2025-09-30_04-48-34-346.csv')\n",
    "\n",
    "print(\"Dataset Shape:\", df.shape)\n",
    "print(\"\\nColumn Names:\")\n",
    "print(df.columns.tolist())\n",
    "print(\"\\nFirst few rows:\")\n",
    "df.head()"
   ]
  },
  {
   "cell_type": "code",
   "execution_count": 2,
   "id": "5bd863c3",
   "metadata": {},
   "outputs": [
    {
     "name": "stdout",
     "output_type": "stream",
     "text": [
      "Dataset Info:\n",
      "Number of rows: 60\n",
      "Number of columns: 18\n",
      "\n",
      "Data Types:\n",
      "company                     object\n",
      "companyDetails/industry    float64\n",
      "companyDetails/size        float64\n",
      "companyDetails/website     float64\n",
      "companyLink                 object\n",
      "description                 object\n",
      "employmentType              object\n",
      "experienceLevel             object\n",
      "industry                   float64\n",
      "jobLink                     object\n",
      "jobType                    float64\n",
      "location                    object\n",
      "postDate                    object\n",
      "publisher/email            float64\n",
      "publisher/name             float64\n",
      "salary                     float64\n",
      "title                       object\n",
      "workplaceType              float64\n",
      "dtype: object\n",
      "\n",
      "Missing Values:\n",
      "company                     0\n",
      "companyDetails/industry    60\n",
      "companyDetails/size        60\n",
      "companyDetails/website     60\n",
      "companyLink                 0\n",
      "description                 0\n",
      "employmentType              0\n",
      "experienceLevel             0\n",
      "industry                   60\n",
      "jobLink                     0\n",
      "jobType                    60\n",
      "location                    0\n",
      "postDate                    0\n",
      "publisher/email            60\n",
      "publisher/name             60\n",
      "salary                     60\n",
      "title                       0\n",
      "workplaceType              60\n",
      "dtype: int64\n",
      "\n",
      "Memory Usage:\n",
      "408.755859375 KB\n"
     ]
    }
   ],
   "source": [
    "# Basic dataset information\n",
    "print(\"Dataset Info:\")\n",
    "print(f\"Number of rows: {df.shape[0]}\")\n",
    "print(f\"Number of columns: {df.shape[1]}\")\n",
    "print(\"\\nData Types:\")\n",
    "print(df.dtypes)\n",
    "print(\"\\nMissing Values:\")\n",
    "print(df.isnull().sum())\n",
    "print(\"\\nMemory Usage:\")\n",
    "print(df.memory_usage(deep=True).sum() / 1024, \"KB\")"
   ]
  },
  {
   "cell_type": "code",
   "execution_count": 3,
   "id": "051cfe9e",
   "metadata": {},
   "outputs": [
    {
     "name": "stdout",
     "output_type": "stream",
     "text": [
      "=== COMPANY ANALYSIS ===\n",
      "Top 10 Companies:\n",
      "company\n",
      "Shopee                            7\n",
      "ĐÚNG NGƯỜI ĐÚNG VIỆC Community    3\n",
      "Procter & Gamble                  2\n",
      "HEINEKEN Vietnam                  2\n",
      "Unilever                          2\n",
      "Mindrift                          2\n",
      "Zalopay                           1\n",
      "Carlsberg Group                   1\n",
      "TechX Corp.                       1\n",
      "Sucafina                          1\n",
      "Name: count, dtype: int64\n",
      "\n",
      "Total unique companies: 48\n",
      "\n",
      "=== LOCATION ANALYSIS ===\n",
      "Top 10 Locations:\n",
      "location\n",
      "Ho Chi Minh City, Vietnam                      15\n",
      "Ho Chi Minh City, Ho Chi Minh City, Vietnam    14\n",
      "Ho Chi Minh City Metropolitan Area              8\n",
      "Vietnam                                         6\n",
      "Phường Chí Minh, Hai Duong, Vietnam             2\n",
      "Hanoi, Hanoi, Vietnam                           2\n",
      "Hanoi Capital Region                            2\n",
      "Thanh Tr, Bac Lieu, Vietnam                     1\n",
      "Thuận An, Binh Duong, Vietnam                   1\n",
      "District 3, Ho Chi Minh City, Vietnam           1\n",
      "Name: count, dtype: int64\n",
      "\n",
      "Total unique locations: 18\n",
      "\n",
      "=== EMPLOYMENT TYPE ANALYSIS ===\n",
      "Employment Types:\n",
      "employmentType\n",
      "Toàn thời gian    49\n",
      "Thực tập           5\n",
      "Bán thời gian      4\n",
      "Hợp đồng           2\n",
      "Name: count, dtype: int64\n",
      "\n",
      "=== EXPERIENCE LEVEL ANALYSIS ===\n",
      "Experience Levels:\n",
      "experienceLevel\n",
      "Mid-Senior level    24\n",
      "Entry level         16\n",
      "Associate           11\n",
      "Thực tập             6\n",
      "Not Applicable       3\n",
      "Name: count, dtype: int64\n",
      "\n",
      "=== JOB TITLES ANALYSIS ===\n",
      "Top 10 Job Titles:\n",
      "title\n",
      "Data Analyst                                                                 4\n",
      "Data Scientist                                                               3\n",
      "Artificial Intelligence Engineer                                             1\n",
      "[Shopee] Technical Project Management Associate                              1\n",
      "Demand Planning Manager                                                      1\n",
      "Data Scientist Intern                                                        1\n",
      "(Senior) Business Intelligence Analyst (Projects) - BI & Planning, Shopee    1\n",
      "Product & Marketing - Shopee Ads                                             1\n",
      "Solution Analyst - CTRM                                                      1\n",
      "Data Scientist (ONSITE OVERSEA)                                              1\n",
      "Name: count, dtype: int64\n"
     ]
    }
   ],
   "source": [
    "# Analyze key categorical variables\n",
    "print(\"=== COMPANY ANALYSIS ===\")\n",
    "print(\"Top 10 Companies:\")\n",
    "print(df['company'].value_counts().head(10))\n",
    "print(f\"\\nTotal unique companies: {df['company'].nunique()}\")\n",
    "\n",
    "print(\"\\n=== LOCATION ANALYSIS ===\")\n",
    "print(\"Top 10 Locations:\")\n",
    "print(df['location'].value_counts().head(10))\n",
    "print(f\"\\nTotal unique locations: {df['location'].nunique()}\")\n",
    "\n",
    "print(\"\\n=== EMPLOYMENT TYPE ANALYSIS ===\")\n",
    "print(\"Employment Types:\")\n",
    "print(df['employmentType'].value_counts())\n",
    "\n",
    "print(\"\\n=== EXPERIENCE LEVEL ANALYSIS ===\")\n",
    "print(\"Experience Levels:\")\n",
    "print(df['experienceLevel'].value_counts())\n",
    "\n",
    "print(\"\\n=== JOB TITLES ANALYSIS ===\")\n",
    "print(\"Top 10 Job Titles:\")\n",
    "print(df['title'].value_counts().head(10))"
   ]
  },
  {
   "cell_type": "code",
   "execution_count": 4,
   "id": "fe368650",
   "metadata": {},
   "outputs": [
    {
     "data": {
      "image/png": "[encoded data removed]",
      "text/plain": [
       "<Figure size 1500x1200 with 4 Axes>"
      ]
     },
     "metadata": {},
     "output_type": "display_data"
    }
   ],
   "source": [
    "# Create visualizations for job market trends\n",
    "plt.style.use('default')\n",
    "fig, axes = plt.subplots(2, 2, figsize=(15, 12))\n",
    "\n",
    "# 1. Top Companies\n",
    "top_companies = df['company'].value_counts().head(10)\n",
    "axes[0,0].barh(range(len(top_companies)), top_companies.values)\n",
    "axes[0,0].set_yticks(range(len(top_companies)))\n",
    "axes[0,0].set_yticklabels(top_companies.index)\n",
    "axes[0,0].set_xlabel('Number of Jobs')\n",
    "axes[0,0].set_title('Top 10 Companies by Number of Job Postings')\n",
    "axes[0,0].invert_yaxis()\n",
    "\n",
    "# 2. Employment Type Distribution\n",
    "emp_type_counts = df['employmentType'].value_counts()\n",
    "axes[0,1].pie(emp_type_counts.values, labels=emp_type_counts.index, autopct='%1.1f%%', startangle=90)\n",
    "axes[0,1].set_title('Employment Type Distribution')\n",
    "\n",
    "# 3. Experience Level Distribution\n",
    "exp_level_counts = df['experienceLevel'].value_counts()\n",
    "axes[1,0].bar(exp_level_counts.index, exp_level_counts.values)\n",
    "axes[1,0].set_xlabel('Experience Level')\n",
    "axes[1,0].set_ylabel('Number of Jobs')\n",
    "axes[1,0].set_title('Experience Level Distribution')\n",
    "axes[1,0].tick_params(axis='x', rotation=45)\n",
    "\n",
    "# 4. Top Locations\n",
    "top_locations = df['location'].value_counts().head(8)\n",
    "axes[1,1].barh(range(len(top_locations)), top_locations.values)\n",
    "axes[1,1].set_yticks(range(len(top_locations)))\n",
    "axes[1,1].set_yticklabels(top_locations.index, fontsize=8)\n",
    "axes[1,1].set_xlabel('Number of Jobs')\n",
    "axes[1,1].set_title('Top 8 Locations by Number of Job Postings')\n",
    "axes[1,1].invert_yaxis()\n",
    "\n",
    "plt.tight_layout()\n",
    "plt.show()"
   ]
  },
  {
   "cell_type": "code",
   "execution_count": 5,
   "id": "a06ad351",
   "metadata": {},
   "outputs": [
    {
     "data": {
      "application/vnd.plotly.v1+json": {
       "config": {
        "plotlyServerURL": "https://plot.ly"
       },
       "data": [
        {
         "hovertemplate": "Number of Jobs=%{x}<br>Job Title=%{y}<br>color=%{marker.color}<extra></extra>",
         "legendgroup": "",
         "marker": {
          "color": {
           "bdata": "BAMBAQEBAQEBAQEBAQEB",
           "dtype": "i1"
          },
          "coloraxis": "coloraxis",
          "pattern": {
           "shape": ""
          }
         },
         "name": "",
         "orientation": "h",
         "showlegend": false,
         "textposition": "auto",
         "type": "bar",
         "x": {
          "bdata": "BAMBAQEBAQEBAQEBAQEB",
          "dtype": "i1"
         },
         "xaxis": "x",
         "y": [
          "Data Analyst",
          "Data Scientist",
          "Artificial Intelligence Engineer",
          "[Shopee] Technical Project Management Associate",
          "Demand Planning Manager",
          "Data Scientist Intern",
          "(Senior) Business Intelligence Analyst (Projects) - BI & Planning, Shopee",
          "Product & Marketing - Shopee Ads",
          "Solution Analyst - CTRM",
          "Data Scientist (ONSITE OVERSEA)",
          "Business Data Analyst",
          "Strategy & Development Expert",
          "(Senior) Business Intelligence Analyst (Marketing) - BI & Planning, Shopee",
          "AI Engineer (upto $1500)",
          "Analytics Manager"
         ],
         "yaxis": "y"
        }
       ],
       "layout": {
        "barmode": "relative",
        "coloraxis": {
         "colorbar": {
          "title": {
           "text": "color"
          }
         },
         "colorscale": [
          [
           0,
           "#440154"
          ],
          [
           0.1111111111111111,
           "#482878"
          ],
          [
           0.2222222222222222,
           "#3e4989"
          ],
          [
           0.3333333333333333,
           "#31688e"
          ],
          [
           0.4444444444444444,
           "#26828e"
          ],
          [
           0.5555555555555556,
           "#1f9e89"
          ],
          [
           0.6666666666666666,
           "#35b779"
          ],
          [
           0.7777777777777778,
           "#6ece58"
          ],
          [
           0.8888888888888888,
           "#b5de2b"
          ],
          [
           1,
           "#fde725"
          ]
         ]
        },
        "height": 600,
        "legend": {
         "tracegroupgap": 0
        },
        "showlegend": false,
        "template": {
         "data": {
          "bar": [
           {
            "error_x": {
             "color": "#2a3f5f"
            },
            "error_y": {
             "color": "#2a3f5f"
            },
            "marker": {
             "line": {
              "color": "#E5ECF6",
              "width": 0.5
             },
             "pattern": {
              "fillmode": "overlay",
              "size": 10,
              "solidity": 0.2
             }
            },
            "type": "bar"
           }
          ],
          "barpolar": [
           {
            "marker": {
             "line": {
              "color": "#E5ECF6",
              "width": 0.5
             },
             "pattern": {
              "fillmode": "overlay",
              "size": 10,
              "solidity": 0.2
             }
            },
            "type": "barpolar"
           }
          ],
          "carpet": [
           {
            "aaxis": {
             "endlinecolor": "#2a3f5f",
             "gridcolor": "white",
             "linecolor": "white",
             "minorgridcolor": "white",
             "startlinecolor": "#2a3f5f"
            },
            "baxis": {
             "endlinecolor": "#2a3f5f",
             "gridcolor": "white",
             "linecolor": "white",
             "minorgridcolor": "white",
             "startlinecolor": "#2a3f5f"
            },
            "type": "carpet"
           }
          ],
          "choropleth": [
           {
            "colorbar": {
             "outlinewidth": 0,
             "ticks": ""
            },
            "type": "choropleth"
           }
          ],
          "contour": [
           {
            "colorbar": {
             "outlinewidth": 0,
             "ticks": ""
            },
            "colorscale": [
             [
              0,
              "#0d0887"
             ],
             [
              0.1111111111111111,
              "#46039f"
             ],
             [
              0.2222222222222222,
              "#7201a8"
             ],
             [
              0.3333333333333333,
              "#9c179e"
             ],
             [
              0.4444444444444444,
              "#bd3786"
             ],
             [
              0.5555555555555556,
              "#d8576b"
             ],
             [
              0.6666666666666666,
              "#ed7953"
             ],
             [
              0.7777777777777778,
              "#fb9f3a"
             ],
             [
              0.8888888888888888,
              "#fdca26"
             ],
             [
              1,
              "#f0f921"
             ]
            ],
            "type": "contour"
           }
          ],
          "contourcarpet": [
           {
            "colorbar": {
             "outlinewidth": 0,
             "ticks": ""
            },
            "type": "contourcarpet"
           }
          ],
          "heatmap": [
           {
            "colorbar": {
             "outlinewidth": 0,
             "ticks": ""
            },
            "colorscale": [
             [
              0,
              "#0d0887"
             ],
             [
              0.1111111111111111,
              "#46039f"
             ],
             [
              0.2222222222222222,
              "#7201a8"
             ],
             [
              0.3333333333333333,
              "#9c179e"
             ],
             [
              0.4444444444444444,
              "#bd3786"
             ],
             [
              0.5555555555555556,
              "#d8576b"
             ],
             [
              0.6666666666666666,
              "#ed7953"
             ],
             [
              0.7777777777777778,
              "#fb9f3a"
             ],
             [
              0.8888888888888888,
              "#fdca26"
             ],
             [
              1,
              "#f0f921"
             ]
            ],
            "type": "heatmap"
           }
          ],
          "histogram": [
           {
            "marker": {
             "pattern": {
              "fillmode": "overlay",
              "size": 10,
              "solidity": 0.2
             }
            },
            "type": "histogram"
           }
          ],
          "histogram2d": [
           {
            "colorbar": {
             "outlinewidth": 0,
             "ticks": ""
            },
            "colorscale": [
             [
              0,
              "#0d0887"
             ],
             [
              0.1111111111111111,
              "#46039f"
             ],
             [
              0.2222222222222222,
              "#7201a8"
             ],
             [
              0.3333333333333333,
              "#9c179e"
             ],
             [
              0.4444444444444444,
              "#bd3786"
             ],
             [
              0.5555555555555556,
              "#d8576b"
             ],
             [
              0.6666666666666666,
              "#ed7953"
             ],
             [
              0.7777777777777778,
              "#fb9f3a"
             ],
             [
              0.8888888888888888,
              "#fdca26"
             ],
             [
              1,
              "#f0f921"
             ]
            ],
            "type": "histogram2d"
           }
          ],
          "histogram2dcontour": [
           {
            "colorbar": {
             "outlinewidth": 0,
             "ticks": ""
            },
            "colorscale": [
             [
              0,
              "#0d0887"
             ],
             [
              0.1111111111111111,
              "#46039f"
             ],
             [
              0.2222222222222222,
              "#7201a8"
             ],
             [
              0.3333333333333333,
              "#9c179e"
             ],
             [
              0.4444444444444444,
              "#bd3786"
             ],
             [
              0.5555555555555556,
              "#d8576b"
             ],
             [
              0.6666666666666666,
              "#ed7953"
             ],
             [
              0.7777777777777778,
              "#fb9f3a"
             ],
             [
              0.8888888888888888,
              "#fdca26"
             ],
             [
              1,
              "#f0f921"
             ]
            ],
            "type": "histogram2dcontour"
           }
          ],
          "mesh3d": [
           {
            "colorbar": {
             "outlinewidth": 0,
             "ticks": ""
            },
            "type": "mesh3d"
           }
          ],
          "parcoords": [
           {
            "line": {
             "colorbar": {
              "outlinewidth": 0,
              "ticks": ""
             }
            },
            "type": "parcoords"
           }
          ],
          "pie": [
           {
            "automargin": true,
            "type": "pie"
           }
          ],
          "scatter": [
           {
            "fillpattern": {
             "fillmode": "overlay",
             "size": 10,
             "solidity": 0.2
            },
            "type": "scatter"
           }
          ],
          "scatter3d": [
           {
            "line": {
             "colorbar": {
              "outlinewidth": 0,
              "ticks": ""
             }
            },
            "marker": {
             "colorbar": {
              "outlinewidth": 0,
              "ticks": ""
             }
            },
            "type": "scatter3d"
           }
          ],
          "scattercarpet": [
           {
            "marker": {
             "colorbar": {
              "outlinewidth": 0,
              "ticks": ""
             }
            },
            "type": "scattercarpet"
           }
          ],
          "scattergeo": [
           {
            "marker": {
             "colorbar": {
              "outlinewidth": 0,
              "ticks": ""
             }
            },
            "type": "scattergeo"
           }
          ],
          "scattergl": [
           {
            "marker": {
             "colorbar": {
              "outlinewidth": 0,
              "ticks": ""
             }
            },
            "type": "scattergl"
           }
          ],
          "scattermap": [
           {
            "marker": {
             "colorbar": {
              "outlinewidth": 0,
              "ticks": ""
             }
            },
            "type": "scattermap"
           }
          ],
          "scattermapbox": [
           {
            "marker": {
             "colorbar": {
              "outlinewidth": 0,
              "ticks": ""
             }
            },
            "type": "scattermapbox"
           }
          ],
          "scatterpolar": [
           {
            "marker": {
             "colorbar": {
              "outlinewidth": 0,
              "ticks": ""
             }
            },
            "type": "scatterpolar"
           }
          ],
          "scatterpolargl": [
           {
            "marker": {
             "colorbar": {
              "outlinewidth": 0,
              "ticks": ""
             }
            },
            "type": "scatterpolargl"
           }
          ],
          "scatterternary": [
           {
            "marker": {
             "colorbar": {
              "outlinewidth": 0,
              "ticks": ""
             }
            },
            "type": "scatterternary"
           }
          ],
          "surface": [
           {
            "colorbar": {
             "outlinewidth": 0,
             "ticks": ""
            },
            "colorscale": [
             [
              0,
              "#0d0887"
             ],
             [
              0.1111111111111111,
              "#46039f"
             ],
             [
              0.2222222222222222,
              "#7201a8"
             ],
             [
              0.3333333333333333,
              "#9c179e"
             ],
             [
              0.4444444444444444,
              "#bd3786"
             ],
             [
              0.5555555555555556,
              "#d8576b"
             ],
             [
              0.6666666666666666,
              "#ed7953"
             ],
             [
              0.7777777777777778,
              "#fb9f3a"
             ],
             [
              0.8888888888888888,
              "#fdca26"
             ],
             [
              1,
              "#f0f921"
             ]
            ],
            "type": "surface"
           }
          ],
          "table": [
           {
            "cells": {
             "fill": {
              "color": "#EBF0F8"
             },
             "line": {
              "color": "white"
             }
            },
            "header": {
             "fill": {
              "color": "#C8D4E3"
             },
             "line": {
              "color": "white"
             }
            },
            "type": "table"
           }
          ]
         },
         "layout": {
          "annotationdefaults": {
           "arrowcolor": "#2a3f5f",
           "arrowhead": 0,
           "arrowwidth": 1
          },
          "autotypenumbers": "strict",
          "coloraxis": {
           "colorbar": {
            "outlinewidth": 0,
            "ticks": ""
           }
          },
          "colorscale": {
           "diverging": [
            [
             0,
             "#8e0152"
            ],
            [
             0.1,
             "#c51b7d"
            ],
            [
             0.2,
             "#de77ae"
            ],
            [
             0.3,
             "#f1b6da"
            ],
            [
             0.4,
             "#fde0ef"
            ],
            [
             0.5,
             "#f7f7f7"
            ],
            [
             0.6,
             "#e6f5d0"
            ],
            [
             0.7,
             "#b8e186"
            ],
            [
             0.8,
             "#7fbc41"
            ],
            [
             0.9,
             "#4d9221"
            ],
            [
             1,
             "#276419"
            ]
           ],
           "sequential": [
            [
             0,
             "#0d0887"
            ],
            [
             0.1111111111111111,
             "#46039f"
            ],
            [
             0.2222222222222222,
             "#7201a8"
            ],
            [
             0.3333333333333333,
             "#9c179e"
            ],
            [
             0.4444444444444444,
             "#bd3786"
            ],
            [
             0.5555555555555556,
             "#d8576b"
            ],
            [
             0.6666666666666666,
             "#ed7953"
            ],
            [
             0.7777777777777778,
             "#fb9f3a"
            ],
            [
             0.8888888888888888,
             "#fdca26"
            ],
            [
             1,
             "#f0f921"
            ]
           ],
           "sequentialminus": [
            [
             0,
             "#0d0887"
            ],
            [
             0.1111111111111111,
             "#46039f"
            ],
            [
             0.2222222222222222,
             "#7201a8"
            ],
            [
             0.3333333333333333,
             "#9c179e"
            ],
            [
             0.4444444444444444,
             "#bd3786"
            ],
            [
             0.5555555555555556,
             "#d8576b"
            ],
            [
             0.6666666666666666,
             "#ed7953"
            ],
            [
             0.7777777777777778,
             "#fb9f3a"
            ],
            [
             0.8888888888888888,
             "#fdca26"
            ],
            [
             1,
             "#f0f921"
            ]
           ]
          },
          "colorway": [
           "#636efa",
           "#EF553B",
           "#00cc96",
           "#ab63fa",
           "#FFA15A",
           "#19d3f3",
           "#FF6692",
           "#B6E880",
           "#FF97FF",
           "#FECB52"
          ],
          "font": {
           "color": "#2a3f5f"
          },
          "geo": {
           "bgcolor": "white",
           "lakecolor": "white",
           "landcolor": "#E5ECF6",
           "showlakes": true,
           "showland": true,
           "subunitcolor": "white"
          },
          "hoverlabel": {
           "align": "left"
          },
          "hovermode": "closest",
          "mapbox": {
           "style": "light"
          },
          "paper_bgcolor": "white",
          "plot_bgcolor": "#E5ECF6",
          "polar": {
           "angularaxis": {
            "gridcolor": "white",
            "linecolor": "white",
            "ticks": ""
           },
           "bgcolor": "#E5ECF6",
           "radialaxis": {
            "gridcolor": "white",
            "linecolor": "white",
            "ticks": ""
           }
          },
          "scene": {
           "xaxis": {
            "backgroundcolor": "#E5ECF6",
            "gridcolor": "white",
            "gridwidth": 2,
            "linecolor": "white",
            "showbackground": true,
            "ticks": "",
            "zerolinecolor": "white"
           },
           "yaxis": {
            "backgroundcolor": "#E5ECF6",
            "gridcolor": "white",
            "gridwidth": 2,
            "linecolor": "white",
            "showbackground": true,
            "ticks": "",
            "zerolinecolor": "white"
           },
           "zaxis": {
            "backgroundcolor": "#E5ECF6",
            "gridcolor": "white",
            "gridwidth": 2,
            "linecolor": "white",
            "showbackground": true,
            "ticks": "",
            "zerolinecolor": "white"
           }
          },
          "shapedefaults": {
           "line": {
            "color": "#2a3f5f"
           }
          },
          "ternary": {
           "aaxis": {
            "gridcolor": "white",
            "linecolor": "white",
            "ticks": ""
           },
           "baxis": {
            "gridcolor": "white",
            "linecolor": "white",
            "ticks": ""
           },
           "bgcolor": "#E5ECF6",
           "caxis": {
            "gridcolor": "white",
            "linecolor": "white",
            "ticks": ""
           }
          },
          "title": {
           "x": 0.05
          },
          "xaxis": {
           "automargin": true,
           "gridcolor": "white",
           "linecolor": "white",
           "ticks": "",
           "title": {
            "standoff": 15
           },
           "zerolinecolor": "white",
           "zerolinewidth": 2
          },
          "yaxis": {
           "automargin": true,
           "gridcolor": "white",
           "linecolor": "white",
           "ticks": "",
           "title": {
            "standoff": 15
           },
           "zerolinecolor": "white",
           "zerolinewidth": 2
          }
         }
        },
        "title": {
         "text": "Top 15 Job Titles"
        },
        "xaxis": {
         "anchor": "y",
         "domain": [
          0,
          1
         ],
         "title": {
          "text": "Number of Jobs"
         }
        },
        "yaxis": {
         "anchor": "x",
         "domain": [
          0,
          1
         ],
         "title": {
          "text": "Job Title"
         }
        }
       }
      }
     },
     "metadata": {},
     "output_type": "display_data"
    },
    {
     "data": {
      "application/vnd.plotly.v1+json": {
       "config": {
        "plotlyServerURL": "https://plot.ly"
       },
       "data": [
        {
         "hovertemplate": "Date=%{x}<br>Number of Jobs Posted=%{y}<extra></extra>",
         "legendgroup": "",
         "line": {
          "color": "#636efa",
          "dash": "solid"
         },
         "marker": {
          "symbol": "circle"
         },
         "mode": "lines+markers",
         "name": "",
         "orientation": "v",
         "showlegend": false,
         "type": "scatter",
         "x": [
          "2025-09-01",
          "2025-09-03",
          "2025-09-04",
          "2025-09-05",
          "2025-09-08",
          "2025-09-10",
          "2025-09-12",
          "2025-09-15",
          "2025-09-16",
          "2025-09-17",
          "2025-09-18",
          "2025-09-19",
          "2025-09-22",
          "2025-09-23",
          "2025-09-24",
          "2025-09-25",
          "2025-09-26",
          "2025-09-28",
          "2025-09-29",
          "2025-09-30"
         ],
         "xaxis": "x",
         "y": {
          "bdata": "AQIBAwMCAwEBBAMCBQcIAgUCBAE=",
          "dtype": "i1"
         },
         "yaxis": "y"
        }
       ],
       "layout": {
        "height": 400,
        "legend": {
         "tracegroupgap": 0
        },
        "template": {
         "data": {
          "bar": [
           {
            "error_x": {
             "color": "#2a3f5f"
            },
            "error_y": {
             "color": "#2a3f5f"
            },
            "marker": {
             "line": {
              "color": "#E5ECF6",
              "width": 0.5
             },
             "pattern": {
              "fillmode": "overlay",
              "size": 10,
              "solidity": 0.2
             }
            },
            "type": "bar"
           }
          ],
          "barpolar": [
           {
            "marker": {
             "line": {
              "color": "#E5ECF6",
              "width": 0.5
             },
             "pattern": {
              "fillmode": "overlay",
              "size": 10,
              "solidity": 0.2
             }
            },
            "type": "barpolar"
           }
          ],
          "carpet": [
           {
            "aaxis": {
             "endlinecolor": "#2a3f5f",
             "gridcolor": "white",
             "linecolor": "white",
             "minorgridcolor": "white",
             "startlinecolor": "#2a3f5f"
            },
            "baxis": {
             "endlinecolor": "#2a3f5f",
             "gridcolor": "white",
             "linecolor": "white",
             "minorgridcolor": "white",
             "startlinecolor": "#2a3f5f"
            },
            "type": "carpet"
           }
          ],
          "choropleth": [
           {
            "colorbar": {
             "outlinewidth": 0,
             "ticks": ""
            },
            "type": "choropleth"
           }
          ],
          "contour": [
           {
            "colorbar": {
             "outlinewidth": 0,
             "ticks": ""
            },
            "colorscale": [
             [
              0,
              "#0d0887"
             ],
             [
              0.1111111111111111,
              "#46039f"
             ],
             [
              0.2222222222222222,
              "#7201a8"
             ],
             [
              0.3333333333333333,
              "#9c179e"
             ],
             [
              0.4444444444444444,
              "#bd3786"
             ],
             [
              0.5555555555555556,
              "#d8576b"
             ],
             [
              0.6666666666666666,
              "#ed7953"
             ],
             [
              0.7777777777777778,
              "#fb9f3a"
             ],
             [
              0.8888888888888888,
              "#fdca26"
             ],
             [
              1,
              "#f0f921"
             ]
            ],
            "type": "contour"
           }
          ],
          "contourcarpet": [
           {
            "colorbar": {
             "outlinewidth": 0,
             "ticks": ""
            },
            "type": "contourcarpet"
           }
          ],
          "heatmap": [
           {
            "colorbar": {
             "outlinewidth": 0,
             "ticks": ""
            },
            "colorscale": [
             [
              0,
              "#0d0887"
             ],
             [
              0.1111111111111111,
              "#46039f"
             ],
             [
              0.2222222222222222,
              "#7201a8"
             ],
             [
              0.3333333333333333,
              "#9c179e"
             ],
             [
              0.4444444444444444,
              "#bd3786"
             ],
             [
              0.5555555555555556,
              "#d8576b"
             ],
             [
              0.6666666666666666,
              "#ed7953"
             ],
             [
              0.7777777777777778,
              "#fb9f3a"
             ],
             [
              0.8888888888888888,
              "#fdca26"
             ],
             [
              1,
              "#f0f921"
             ]
            ],
            "type": "heatmap"
           }
          ],
          "histogram": [
           {
            "marker": {
             "pattern": {
              "fillmode": "overlay",
              "size": 10,
              "solidity": 0.2
             }
            },
            "type": "histogram"
           }
          ],
          "histogram2d": [
           {
            "colorbar": {
             "outlinewidth": 0,
             "ticks": ""
            },
            "colorscale": [
             [
              0,
              "#0d0887"
             ],
             [
              0.1111111111111111,
              "#46039f"
             ],
             [
              0.2222222222222222,
              "#7201a8"
             ],
             [
              0.3333333333333333,
              "#9c179e"
             ],
             [
              0.4444444444444444,
              "#bd3786"
             ],
             [
              0.5555555555555556,
              "#d8576b"
             ],
             [
              0.6666666666666666,
              "#ed7953"
             ],
             [
              0.7777777777777778,
              "#fb9f3a"
             ],
             [
              0.8888888888888888,
              "#fdca26"
             ],
             [
              1,
              "#f0f921"
             ]
            ],
            "type": "histogram2d"
           }
          ],
          "histogram2dcontour": [
           {
            "colorbar": {
             "outlinewidth": 0,
             "ticks": ""
            },
            "colorscale": [
             [
              0,
              "#0d0887"
             ],
             [
              0.1111111111111111,
              "#46039f"
             ],
             [
              0.2222222222222222,
              "#7201a8"
             ],
             [
              0.3333333333333333,
              "#9c179e"
             ],
             [
              0.4444444444444444,
              "#bd3786"
             ],
             [
              0.5555555555555556,
              "#d8576b"
             ],
             [
              0.6666666666666666,
              "#ed7953"
             ],
             [
              0.7777777777777778,
              "#fb9f3a"
             ],
             [
              0.8888888888888888,
              "#fdca26"
             ],
             [
              1,
              "#f0f921"
             ]
            ],
            "type": "histogram2dcontour"
           }
          ],
          "mesh3d": [
           {
            "colorbar": {
             "outlinewidth": 0,
             "ticks": ""
            },
            "type": "mesh3d"
           }
          ],
          "parcoords": [
           {
            "line": {
             "colorbar": {
              "outlinewidth": 0,
              "ticks": ""
             }
            },
            "type": "parcoords"
           }
          ],
          "pie": [
           {
            "automargin": true,
            "type": "pie"
           }
          ],
          "scatter": [
           {
            "fillpattern": {
             "fillmode": "overlay",
             "size": 10,
             "solidity": 0.2
            },
            "type": "scatter"
           }
          ],
          "scatter3d": [
           {
            "line": {
             "colorbar": {
              "outlinewidth": 0,
              "ticks": ""
             }
            },
            "marker": {
             "colorbar": {
              "outlinewidth": 0,
              "ticks": ""
             }
            },
            "type": "scatter3d"
           }
          ],
          "scattercarpet": [
           {
            "marker": {
             "colorbar": {
              "outlinewidth": 0,
              "ticks": ""
             }
            },
            "type": "scattercarpet"
           }
          ],
          "scattergeo": [
           {
            "marker": {
             "colorbar": {
              "outlinewidth": 0,
              "ticks": ""
             }
            },
            "type": "scattergeo"
           }
          ],
          "scattergl": [
           {
            "marker": {
             "colorbar": {
              "outlinewidth": 0,
              "ticks": ""
             }
            },
            "type": "scattergl"
           }
          ],
          "scattermap": [
           {
            "marker": {
             "colorbar": {
              "outlinewidth": 0,
              "ticks": ""
             }
            },
            "type": "scattermap"
           }
          ],
          "scattermapbox": [
           {
            "marker": {
             "colorbar": {
              "outlinewidth": 0,
              "ticks": ""
             }
            },
            "type": "scattermapbox"
           }
          ],
          "scatterpolar": [
           {
            "marker": {
             "colorbar": {
              "outlinewidth": 0,
              "ticks": ""
             }
            },
            "type": "scatterpolar"
           }
          ],
          "scatterpolargl": [
           {
            "marker": {
             "colorbar": {
              "outlinewidth": 0,
              "ticks": ""
             }
            },
            "type": "scatterpolargl"
           }
          ],
          "scatterternary": [
           {
            "marker": {
             "colorbar": {
              "outlinewidth": 0,
              "ticks": ""
             }
            },
            "type": "scatterternary"
           }
          ],
          "surface": [
           {
            "colorbar": {
             "outlinewidth": 0,
             "ticks": ""
            },
            "colorscale": [
             [
              0,
              "#0d0887"
             ],
             [
              0.1111111111111111,
              "#46039f"
             ],
             [
              0.2222222222222222,
              "#7201a8"
             ],
             [
              0.3333333333333333,
              "#9c179e"
             ],
             [
              0.4444444444444444,
              "#bd3786"
             ],
             [
              0.5555555555555556,
              "#d8576b"
             ],
             [
              0.6666666666666666,
              "#ed7953"
             ],
             [
              0.7777777777777778,
              "#fb9f3a"
             ],
             [
              0.8888888888888888,
              "#fdca26"
             ],
             [
              1,
              "#f0f921"
             ]
            ],
            "type": "surface"
           }
          ],
          "table": [
           {
            "cells": {
             "fill": {
              "color": "#EBF0F8"
             },
             "line": {
              "color": "white"
             }
            },
            "header": {
             "fill": {
              "color": "#C8D4E3"
             },
             "line": {
              "color": "white"
             }
            },
            "type": "table"
           }
          ]
         },
         "layout": {
          "annotationdefaults": {
           "arrowcolor": "#2a3f5f",
           "arrowhead": 0,
           "arrowwidth": 1
          },
          "autotypenumbers": "strict",
          "coloraxis": {
           "colorbar": {
            "outlinewidth": 0,
            "ticks": ""
           }
          },
          "colorscale": {
           "diverging": [
            [
             0,
             "#8e0152"
            ],
            [
             0.1,
             "#c51b7d"
            ],
            [
             0.2,
             "#de77ae"
            ],
            [
             0.3,
             "#f1b6da"
            ],
            [
             0.4,
             "#fde0ef"
            ],
            [
             0.5,
             "#f7f7f7"
            ],
            [
             0.6,
             "#e6f5d0"
            ],
            [
             0.7,
             "#b8e186"
            ],
            [
             0.8,
             "#7fbc41"
            ],
            [
             0.9,
             "#4d9221"
            ],
            [
             1,
             "#276419"
            ]
           ],
           "sequential": [
            [
             0,
             "#0d0887"
            ],
            [
             0.1111111111111111,
             "#46039f"
            ],
            [
             0.2222222222222222,
             "#7201a8"
            ],
            [
             0.3333333333333333,
             "#9c179e"
            ],
            [
             0.4444444444444444,
             "#bd3786"
            ],
            [
             0.5555555555555556,
             "#d8576b"
            ],
            [
             0.6666666666666666,
             "#ed7953"
            ],
            [
             0.7777777777777778,
             "#fb9f3a"
            ],
            [
             0.8888888888888888,
             "#fdca26"
            ],
            [
             1,
             "#f0f921"
            ]
           ],
           "sequentialminus": [
            [
             0,
             "#0d0887"
            ],
            [
             0.1111111111111111,
             "#46039f"
            ],
            [
             0.2222222222222222,
             "#7201a8"
            ],
            [
             0.3333333333333333,
             "#9c179e"
            ],
            [
             0.4444444444444444,
             "#bd3786"
            ],
            [
             0.5555555555555556,
             "#d8576b"
            ],
            [
             0.6666666666666666,
             "#ed7953"
            ],
            [
             0.7777777777777778,
             "#fb9f3a"
            ],
            [
             0.8888888888888888,
             "#fdca26"
            ],
            [
             1,
             "#f0f921"
            ]
           ]
          },
          "colorway": [
           "#636efa",
           "#EF553B",
           "#00cc96",
           "#ab63fa",
           "#FFA15A",
           "#19d3f3",
           "#FF6692",
           "#B6E880",
           "#FF97FF",
           "#FECB52"
          ],
          "font": {
           "color": "#2a3f5f"
          },
          "geo": {
           "bgcolor": "white",
           "lakecolor": "white",
           "landcolor": "#E5ECF6",
           "showlakes": true,
           "showland": true,
           "subunitcolor": "white"
          },
          "hoverlabel": {
           "align": "left"
          },
          "hovermode": "closest",
          "mapbox": {
           "style": "light"
          },
          "paper_bgcolor": "white",
          "plot_bgcolor": "#E5ECF6",
          "polar": {
           "angularaxis": {
            "gridcolor": "white",
            "linecolor": "white",
            "ticks": ""
           },
           "bgcolor": "#E5ECF6",
           "radialaxis": {
            "gridcolor": "white",
            "linecolor": "white",
            "ticks": ""
           }
          },
          "scene": {
           "xaxis": {
            "backgroundcolor": "#E5ECF6",
            "gridcolor": "white",
            "gridwidth": 2,
            "linecolor": "white",
            "showbackground": true,
            "ticks": "",
            "zerolinecolor": "white"
           },
           "yaxis": {
            "backgroundcolor": "#E5ECF6",
            "gridcolor": "white",
            "gridwidth": 2,
            "linecolor": "white",
            "showbackground": true,
            "ticks": "",
            "zerolinecolor": "white"
           },
           "zaxis": {
            "backgroundcolor": "#E5ECF6",
            "gridcolor": "white",
            "gridwidth": 2,
            "linecolor": "white",
            "showbackground": true,
            "ticks": "",
            "zerolinecolor": "white"
           }
          },
          "shapedefaults": {
           "line": {
            "color": "#2a3f5f"
           }
          },
          "ternary": {
           "aaxis": {
            "gridcolor": "white",
            "linecolor": "white",
            "ticks": ""
           },
           "baxis": {
            "gridcolor": "white",
            "linecolor": "white",
            "ticks": ""
           },
           "bgcolor": "#E5ECF6",
           "caxis": {
            "gridcolor": "white",
            "linecolor": "white",
            "ticks": ""
           }
          },
          "title": {
           "x": 0.05
          },
          "xaxis": {
           "automargin": true,
           "gridcolor": "white",
           "linecolor": "white",
           "ticks": "",
           "title": {
            "standoff": 15
           },
           "zerolinecolor": "white",
           "zerolinewidth": 2
          },
          "yaxis": {
           "automargin": true,
           "gridcolor": "white",
           "linecolor": "white",
           "ticks": "",
           "title": {
            "standoff": 15
           },
           "zerolinecolor": "white",
           "zerolinewidth": 2
          }
         }
        },
        "title": {
         "text": "Job Posting Timeline"
        },
        "xaxis": {
         "anchor": "y",
         "domain": [
          0,
          1
         ],
         "title": {
          "text": "Date"
         }
        },
        "yaxis": {
         "anchor": "x",
         "domain": [
          0,
          1
         ],
         "title": {
          "text": "Number of Jobs Posted"
         }
        }
       }
      }
     },
     "metadata": {},
     "output_type": "display_data"
    },
    {
     "name": "stdout",
     "output_type": "stream",
     "text": [
      "Posting Date Range:\n",
      "From: 2025-09-01 00:00:00\n",
      "To: 2025-09-30 00:00:00\n",
      "Total days: 29\n",
      "Average jobs per day: 2.1\n"
     ]
    }
   ],
   "source": [
    "# Interactive visualizations with Plotly\n",
    "# Job titles word cloud analysis\n",
    "job_titles = df['title'].value_counts().head(15)\n",
    "\n",
    "fig_titles = px.bar(\n",
    "    x=job_titles.values, \n",
    "    y=job_titles.index, \n",
    "    orientation='h',\n",
    "    title=\"Top 15 Job Titles\",\n",
    "    labels={'x': 'Number of Jobs', 'y': 'Job Title'},\n",
    "    color=job_titles.values,\n",
    "    color_continuous_scale='viridis'\n",
    ")\n",
    "fig_titles.update_layout(height=600, showlegend=False)\n",
    "fig_titles.show()\n",
    "\n",
    "# Analyze posting dates\n",
    "df['postDate'] = pd.to_datetime(df['postDate'])\n",
    "df['posting_day'] = df['postDate'].dt.date\n",
    "\n",
    "posting_timeline = df['posting_day'].value_counts().sort_index()\n",
    "\n",
    "fig_timeline = px.line(\n",
    "    x=posting_timeline.index, \n",
    "    y=posting_timeline.values,\n",
    "    title=\"Job Posting Timeline\",\n",
    "    labels={'x': 'Date', 'y': 'Number of Jobs Posted'},\n",
    "    markers=True\n",
    ")\n",
    "fig_timeline.update_layout(height=400)\n",
    "fig_timeline.show()\n",
    "\n",
    "print(\"Posting Date Range:\")\n",
    "print(f\"From: {df['postDate'].min()}\")\n",
    "print(f\"To: {df['postDate'].max()}\")\n",
    "print(f\"Total days: {(df['postDate'].max() - df['postDate'].min()).days}\")\n",
    "print(f\"Average jobs per day: {len(df) / (df['postDate'].max() - df['postDate'].min()).days:.1f}\")"
   ]
  },
  {
   "cell_type": "code",
   "execution_count": 6,
   "id": "4b6d21e6",
   "metadata": {},
   "outputs": [
    {
     "name": "stdout",
     "output_type": "stream",
     "text": [
      "Extracting structured information from job descriptions...\n",
      "Extraction completed!\n"
     ]
    }
   ],
   "source": [
    "# Extract structured information from job descriptions\n",
    "import re\n",
    "from collections import defaultdict\n",
    "\n",
    "def extract_skills_and_requirements(description):\n",
    "    \"\"\"Extract skills, requirements, and benefits from job description\"\"\"\n",
    "    if pd.isna(description) or not description:\n",
    "        return {\"skills\": [], \"requirements\": [], \"benefits\": []}\n",
    "    \n",
    "    # Convert to lowercase for pattern matching\n",
    "    desc_lower = description.lower()\n",
    "    \n",
    "    # Programming languages and technical skills\n",
    "    programming_skills = [\n",
    "        'python', 'java', 'javascript', 'sql', 'r', 'scala', 'c++', 'c#', \n",
    "        'go', 'kotlin', 'swift', 'php', 'ruby', 'matlab', 'sas', 'stata'\n",
    "    ]\n",
    "    \n",
    "    # Data science and analytics tools\n",
    "    data_tools = [\n",
    "        'pandas', 'numpy', 'scikit-learn', 'tensorflow', 'pytorch', 'keras',\n",
    "        'tableau', 'power bi', 'powerbi', 'looker', 'qlik', 'spotfire',\n",
    "        'excel', 'spark', 'hadoop', 'kafka', 'airflow', 'docker', 'kubernetes',\n",
    "        'aws', 'azure', 'gcp', 'google cloud', 'bigquery', 'snowflake', 'redshift'\n",
    "    ]\n",
    "    \n",
    "    # Machine learning concepts\n",
    "    ml_concepts = [\n",
    "        'machine learning', 'deep learning', 'neural networks', 'nlp', \n",
    "        'computer vision', 'time series', 'forecasting', 'optimization',\n",
    "        'statistics', 'statistical modeling', 'data mining', 'analytics'\n",
    "    ]\n",
    "    \n",
    "    # Experience requirements\n",
    "    experience_patterns = [\n",
    "        r'(\\d+)\\+?\\s*years?\\s*(?:of\\s*)?experience',\n",
    "        r'(\\d+)\\s*to\\s*(\\d+)\\s*years?\\s*experience',\n",
    "        r'minimum\\s*(\\d+)\\s*years?',\n",
    "        r'at least\\s*(\\d+)\\s*years?'\n",
    "    ]\n",
    "    \n",
    "    # Degree requirements\n",
    "    degree_patterns = [\n",
    "        r\"bachelor'?s?\\s*(?:degree)?\",\n",
    "        r\"master'?s?\\s*(?:degree)?\",\n",
    "        r\"phd\", r\"doctorate\",\n",
    "        r\"undergraduate\", r\"graduate\"\n",
    "    ]\n",
    "    \n",
    "    # Benefits keywords\n",
    "    benefit_keywords = [\n",
    "        'salary', 'bonus', 'insurance', 'health', 'dental', 'vision',\n",
    "        'retirement', '401k', 'vacation', 'pto', 'remote', 'flexible',\n",
    "        'training', 'development', 'career growth', 'promotion'\n",
    "    ]\n",
    "    \n",
    "    # Extract skills\n",
    "    found_skills = []\n",
    "    for skill in programming_skills + data_tools + ml_concepts:\n",
    "        if skill in desc_lower:\n",
    "            found_skills.append(skill)\n",
    "    \n",
    "    # Extract experience requirements\n",
    "    experience_reqs = []\n",
    "    for pattern in experience_patterns:\n",
    "        matches = re.findall(pattern, desc_lower)\n",
    "        for match in matches:\n",
    "            if isinstance(match, tuple):\n",
    "                experience_reqs.append(f\"{match[0]}-{match[1]} years\")\n",
    "            else:\n",
    "                experience_reqs.append(f\"{match}+ years\")\n",
    "    \n",
    "    # Extract degree requirements\n",
    "    degree_reqs = []\n",
    "    for pattern in degree_patterns:\n",
    "        if re.search(pattern, desc_lower):\n",
    "            degree_reqs.append(re.search(pattern, desc_lower).group())\n",
    "    \n",
    "    # Extract benefits\n",
    "    found_benefits = []\n",
    "    for benefit in benefit_keywords:\n",
    "        if benefit in desc_lower:\n",
    "            found_benefits.append(benefit)\n",
    "    \n",
    "    return {\n",
    "        \"skills\": found_skills,\n",
    "        \"experience\": experience_reqs,\n",
    "        \"degree\": degree_reqs,\n",
    "        \"benefits\": found_benefits\n",
    "    }\n",
    "\n",
    "# Apply extraction to all job descriptions\n",
    "print(\"Extracting structured information from job descriptions...\")\n",
    "extracted_data = df['description'].apply(extract_skills_and_requirements)\n",
    "\n",
    "# Create separate lists for analysis\n",
    "all_skills = []\n",
    "all_experience = []\n",
    "all_degrees = []\n",
    "all_benefits = []\n",
    "\n",
    "for data in extracted_data:\n",
    "    all_skills.extend(data['skills'])\n",
    "    all_experience.extend(data['experience'])\n",
    "    all_degrees.extend(data['degree'])\n",
    "    all_benefits.extend(data['benefits'])\n",
    "\n",
    "print(\"Extraction completed!\")"
   ]
  },
  {
   "cell_type": "code",
   "execution_count": 7,
   "id": "58c60387",
   "metadata": {},
   "outputs": [
    {
     "name": "stdout",
     "output_type": "stream",
     "text": [
      "=== TOP SKILLS IN DEMAND ===\n",
      "r: 59 jobs (98.3%)\n",
      "go: 41 jobs (68.3%)\n",
      "excel: 34 jobs (56.7%)\n",
      "python: 28 jobs (46.7%)\n",
      "sql: 28 jobs (46.7%)\n",
      "analytics: 18 jobs (30.0%)\n",
      "machine learning: 12 jobs (20.0%)\n",
      "statistics: 12 jobs (20.0%)\n",
      "power bi: 11 jobs (18.3%)\n",
      "optimization: 10 jobs (16.7%)\n",
      "scala: 10 jobs (16.7%)\n",
      "tableau: 9 jobs (15.0%)\n",
      "tensorflow: 8 jobs (13.3%)\n",
      "pytorch: 8 jobs (13.3%)\n",
      "sas: 7 jobs (11.7%)\n",
      "aws: 6 jobs (10.0%)\n",
      "deep learning: 6 jobs (10.0%)\n",
      "spark: 5 jobs (8.3%)\n",
      "scikit-learn: 5 jobs (8.3%)\n",
      "forecasting: 5 jobs (8.3%)\n",
      "\n",
      "=== EXPERIENCE REQUIREMENTS ===\n",
      "5+ years: 6 jobs\n",
      "2+ years: 3 jobs\n",
      "3+ years: 3 jobs\n",
      "10+ years: 1 jobs\n",
      "4+ years: 1 jobs\n",
      "1+ years: 1 jobs\n",
      "\n",
      "=== DEGREE REQUIREMENTS ===\n",
      "bachelor: 11 jobs\n",
      "graduate: 10 jobs\n",
      "bachelor's degree: 9 jobs\n",
      "master: 3 jobs\n",
      "master's degree: 2 jobs\n",
      "bachelor : 1 jobs\n",
      "master : 1 jobs\n",
      "bachelor's : 1 jobs\n",
      "bachelor degree: 1 jobs\n",
      "master degree: 1 jobs\n",
      "doctorate: 1 jobs\n",
      "master's: 1 jobs\n",
      "phd: 1 jobs\n",
      "\n",
      "=== MOST MENTIONED BENEFITS ===\n",
      "development: 37 jobs (61.7%)\n",
      "training: 19 jobs (31.7%)\n",
      "salary: 13 jobs (21.7%)\n",
      "flexible: 12 jobs (20.0%)\n",
      "health: 10 jobs (16.7%)\n",
      "vision: 9 jobs (15.0%)\n",
      "bonus: 8 jobs (13.3%)\n",
      "insurance: 6 jobs (10.0%)\n",
      "remote: 6 jobs (10.0%)\n",
      "promotion: 3 jobs (5.0%)\n",
      "pto: 3 jobs (5.0%)\n",
      "career growth: 2 jobs (3.3%)\n",
      "dental: 1 jobs (1.7%)\n"
     ]
    }
   ],
   "source": [
    "# Analyze extracted information\n",
    "from collections import Counter\n",
    "\n",
    "# Top skills analysis\n",
    "skill_counts = Counter(all_skills)\n",
    "top_skills = skill_counts.most_common(20)\n",
    "\n",
    "print(\"=== TOP SKILLS IN DEMAND ===\")\n",
    "for skill, count in top_skills:\n",
    "    print(f\"{skill}: {count} jobs ({count/len(df)*100:.1f}%)\")\n",
    "\n",
    "# Experience requirements analysis\n",
    "exp_counts = Counter(all_experience)\n",
    "print(f\"\\n=== EXPERIENCE REQUIREMENTS ===\")\n",
    "for exp, count in exp_counts.most_common():\n",
    "    print(f\"{exp}: {count} jobs\")\n",
    "\n",
    "# Degree requirements analysis\n",
    "degree_counts = Counter(all_degrees)\n",
    "print(f\"\\n=== DEGREE REQUIREMENTS ===\")\n",
    "for degree, count in degree_counts.most_common():\n",
    "    print(f\"{degree}: {count} jobs\")\n",
    "\n",
    "# Benefits analysis\n",
    "benefit_counts = Counter(all_benefits)\n",
    "top_benefits = benefit_counts.most_common(15)\n",
    "print(f\"\\n=== MOST MENTIONED BENEFITS ===\")\n",
    "for benefit, count in top_benefits:\n",
    "    print(f\"{benefit}: {count} jobs ({count/len(df)*100:.1f}%)\")"
   ]
  },
  {
   "cell_type": "code",
   "execution_count": 8,
   "id": "01464905",
   "metadata": {},
   "outputs": [
    {
     "data": {
      "image/png": "[encoded data removed]",
      "text/plain": [
       "<Figure size 1600x1200 with 4 Axes>"
      ]
     },
     "metadata": {},
     "output_type": "display_data"
    }
   ],
   "source": [
    "# Create visualizations for extracted information\n",
    "fig, axes = plt.subplots(2, 2, figsize=(16, 12))\n",
    "\n",
    "# 1. Top Skills\n",
    "top_skills_df = pd.DataFrame(top_skills[:15], columns=['Skill', 'Count'])\n",
    "axes[0,0].barh(top_skills_df['Skill'], top_skills_df['Count'])\n",
    "axes[0,0].set_xlabel('Number of Job Postings')\n",
    "axes[0,0].set_title('Top 15 Most Demanded Skills')\n",
    "axes[0,0].invert_yaxis()\n",
    "\n",
    "# 2. Benefits Distribution\n",
    "top_benefits_df = pd.DataFrame(top_benefits[:10], columns=['Benefit', 'Count'])\n",
    "axes[0,1].bar(top_benefits_df['Benefit'], top_benefits_df['Count'])\n",
    "axes[0,1].set_xlabel('Benefits')\n",
    "axes[0,1].set_ylabel('Number of Job Postings')\n",
    "axes[0,1].set_title('Top 10 Most Mentioned Benefits')\n",
    "axes[0,1].tick_params(axis='x', rotation=45)\n",
    "\n",
    "# 3. Experience Requirements\n",
    "if exp_counts:\n",
    "    exp_df = pd.DataFrame(list(exp_counts.items()), columns=['Experience', 'Count'])\n",
    "    axes[1,0].pie(exp_df['Count'], labels=exp_df['Experience'], autopct='%1.1f%%', startangle=90)\n",
    "    axes[1,0].set_title('Experience Requirements Distribution')\n",
    "else:\n",
    "    axes[1,0].text(0.5, 0.5, 'No experience data extracted', ha='center', va='center')\n",
    "    axes[1,0].set_title('Experience Requirements Distribution')\n",
    "\n",
    "# 4. Technical Skills Categories\n",
    "# Categorize skills\n",
    "programming_langs = ['python', 'sql', 'r', 'java', 'javascript', 'scala', 'go']\n",
    "viz_tools = ['tableau', 'power bi', 'excel']\n",
    "ml_tools = ['tensorflow', 'pytorch', 'scikit-learn', 'machine learning', 'deep learning']\n",
    "cloud_tools = ['aws', 'azure', 'gcp', 'google cloud']\n",
    "\n",
    "skill_categories = {\n",
    "    'Programming Languages': sum([skill_counts.get(skill, 0) for skill in programming_langs]),\n",
    "    'Visualization Tools': sum([skill_counts.get(skill, 0) for skill in viz_tools]),\n",
    "    'ML/AI Tools': sum([skill_counts.get(skill, 0) for skill in ml_tools]),\n",
    "    'Cloud Platforms': sum([skill_counts.get(skill, 0) for skill in cloud_tools]),\n",
    "    'Analytics/Stats': skill_counts.get('analytics', 0) + skill_counts.get('statistics', 0)\n",
    "}\n",
    "\n",
    "categories = list(skill_categories.keys())\n",
    "counts = list(skill_categories.values())\n",
    "axes[1,1].bar(categories, counts)\n",
    "axes[1,1].set_xlabel('Skill Categories')\n",
    "axes[1,1].set_ylabel('Total Mentions')\n",
    "axes[1,1].set_title('Skills by Category')\n",
    "axes[1,1].tick_params(axis='x', rotation=45)\n",
    "\n",
    "plt.tight_layout()\n",
    "plt.show()"
   ]
  },
  {
   "cell_type": "code",
   "execution_count": 9,
   "id": "a25c2681",
   "metadata": {},
   "outputs": [
    {
     "name": "stdout",
     "output_type": "stream",
     "text": [
      "=== JOB ROLE CATEGORIES ===\n",
      "Data Analyst: 17 jobs (28.3%)\n",
      "Other: 14 jobs (23.3%)\n",
      "Management/Leadership: 9 jobs (15.0%)\n",
      "Data Scientist: 7 jobs (11.7%)\n",
      "Data Engineer: 7 jobs (11.7%)\n",
      "Internship: 5 jobs (8.3%)\n",
      "Research: 1 jobs (1.7%)\n"
     ]
    },
    {
     "data": {
      "application/vnd.plotly.v1+json": {
       "config": {
        "plotlyServerURL": "https://plot.ly"
       },
       "data": [
        {
         "domain": {
          "x": [
           0,
           1
          ],
          "y": [
           0,
           1
          ]
         },
         "hovertemplate": "label=%{label}<br>value=%{value}<extra></extra>",
         "labels": [
          "Data Analyst",
          "Other",
          "Management/Leadership",
          "Data Scientist",
          "Data Engineer",
          "Internship",
          "Research"
         ],
         "legendgroup": "",
         "name": "",
         "showlegend": true,
         "textinfo": "percent+label",
         "textposition": "inside",
         "type": "pie",
         "values": {
          "bdata": "EQ4JBwcFAQ==",
          "dtype": "i1"
         }
        }
       ],
       "layout": {
        "legend": {
         "tracegroupgap": 0
        },
        "piecolorway": [
         "rgb(141,211,199)",
         "rgb(255,255,179)",
         "rgb(190,186,218)",
         "rgb(251,128,114)",
         "rgb(128,177,211)",
         "rgb(253,180,98)",
         "rgb(179,222,105)",
         "rgb(252,205,229)",
         "rgb(217,217,217)",
         "rgb(188,128,189)",
         "rgb(204,235,197)",
         "rgb(255,237,111)"
        ],
        "template": {
         "data": {
          "bar": [
           {
            "error_x": {
             "color": "#2a3f5f"
            },
            "error_y": {
             "color": "#2a3f5f"
            },
            "marker": {
             "line": {
              "color": "#E5ECF6",
              "width": 0.5
             },
             "pattern": {
              "fillmode": "overlay",
              "size": 10,
              "solidity": 0.2
             }
            },
            "type": "bar"
           }
          ],
          "barpolar": [
           {
            "marker": {
             "line": {
              "color": "#E5ECF6",
              "width": 0.5
             },
             "pattern": {
              "fillmode": "overlay",
              "size": 10,
              "solidity": 0.2
             }
            },
            "type": "barpolar"
           }
          ],
          "carpet": [
           {
            "aaxis": {
             "endlinecolor": "#2a3f5f",
             "gridcolor": "white",
             "linecolor": "white",
             "minorgridcolor": "white",
             "startlinecolor": "#2a3f5f"
            },
            "baxis": {
             "endlinecolor": "#2a3f5f",
             "gridcolor": "white",
             "linecolor": "white",
             "minorgridcolor": "white",
             "startlinecolor": "#2a3f5f"
            },
            "type": "carpet"
           }
          ],
          "choropleth": [
           {
            "colorbar": {
             "outlinewidth": 0,
             "ticks": ""
            },
            "type": "choropleth"
           }
          ],
          "contour": [
           {
            "colorbar": {
             "outlinewidth": 0,
             "ticks": ""
            },
            "colorscale": [
             [
              0,
              "#0d0887"
             ],
             [
              0.1111111111111111,
              "#46039f"
             ],
             [
              0.2222222222222222,
              "#7201a8"
             ],
             [
              0.3333333333333333,
              "#9c179e"
             ],
             [
              0.4444444444444444,
              "#bd3786"
             ],
             [
              0.5555555555555556,
              "#d8576b"
             ],
             [
              0.6666666666666666,
              "#ed7953"
             ],
             [
              0.7777777777777778,
              "#fb9f3a"
             ],
             [
              0.8888888888888888,
              "#fdca26"
             ],
             [
              1,
              "#f0f921"
             ]
            ],
            "type": "contour"
           }
          ],
          "contourcarpet": [
           {
            "colorbar": {
             "outlinewidth": 0,
             "ticks": ""
            },
            "type": "contourcarpet"
           }
          ],
          "heatmap": [
           {
            "colorbar": {
             "outlinewidth": 0,
             "ticks": ""
            },
            "colorscale": [
             [
              0,
              "#0d0887"
             ],
             [
              0.1111111111111111,
              "#46039f"
             ],
             [
              0.2222222222222222,
              "#7201a8"
             ],
             [
              0.3333333333333333,
              "#9c179e"
             ],
             [
              0.4444444444444444,
              "#bd3786"
             ],
             [
              0.5555555555555556,
              "#d8576b"
             ],
             [
              0.6666666666666666,
              "#ed7953"
             ],
             [
              0.7777777777777778,
              "#fb9f3a"
             ],
             [
              0.8888888888888888,
              "#fdca26"
             ],
             [
              1,
              "#f0f921"
             ]
            ],
            "type": "heatmap"
           }
          ],
          "histogram": [
           {
            "marker": {
             "pattern": {
              "fillmode": "overlay",
              "size": 10,
              "solidity": 0.2
             }
            },
            "type": "histogram"
           }
          ],
          "histogram2d": [
           {
            "colorbar": {
             "outlinewidth": 0,
             "ticks": ""
            },
            "colorscale": [
             [
              0,
              "#0d0887"
             ],
             [
              0.1111111111111111,
              "#46039f"
             ],
             [
              0.2222222222222222,
              "#7201a8"
             ],
             [
              0.3333333333333333,
              "#9c179e"
             ],
             [
              0.4444444444444444,
              "#bd3786"
             ],
             [
              0.5555555555555556,
              "#d8576b"
             ],
             [
              0.6666666666666666,
              "#ed7953"
             ],
             [
              0.7777777777777778,
              "#fb9f3a"
             ],
             [
              0.8888888888888888,
              "#fdca26"
             ],
             [
              1,
              "#f0f921"
             ]
            ],
            "type": "histogram2d"
           }
          ],
          "histogram2dcontour": [
           {
            "colorbar": {
             "outlinewidth": 0,
             "ticks": ""
            },
            "colorscale": [
             [
              0,
              "#0d0887"
             ],
             [
              0.1111111111111111,
              "#46039f"
             ],
             [
              0.2222222222222222,
              "#7201a8"
             ],
             [
              0.3333333333333333,
              "#9c179e"
             ],
             [
              0.4444444444444444,
              "#bd3786"
             ],
             [
              0.5555555555555556,
              "#d8576b"
             ],
             [
              0.6666666666666666,
              "#ed7953"
             ],
             [
              0.7777777777777778,
              "#fb9f3a"
             ],
             [
              0.8888888888888888,
              "#fdca26"
             ],
             [
              1,
              "#f0f921"
             ]
            ],
            "type": "histogram2dcontour"
           }
          ],
          "mesh3d": [
           {
            "colorbar": {
             "outlinewidth": 0,
             "ticks": ""
            },
            "type": "mesh3d"
           }
          ],
          "parcoords": [
           {
            "line": {
             "colorbar": {
              "outlinewidth": 0,
              "ticks": ""
             }
            },
            "type": "parcoords"
           }
          ],
          "pie": [
           {
            "automargin": true,
            "type": "pie"
           }
          ],
          "scatter": [
           {
            "fillpattern": {
             "fillmode": "overlay",
             "size": 10,
             "solidity": 0.2
            },
            "type": "scatter"
           }
          ],
          "scatter3d": [
           {
            "line": {
             "colorbar": {
              "outlinewidth": 0,
              "ticks": ""
             }
            },
            "marker": {
             "colorbar": {
              "outlinewidth": 0,
              "ticks": ""
             }
            },
            "type": "scatter3d"
           }
          ],
          "scattercarpet": [
           {
            "marker": {
             "colorbar": {
              "outlinewidth": 0,
              "ticks": ""
             }
            },
            "type": "scattercarpet"
           }
          ],
          "scattergeo": [
           {
            "marker": {
             "colorbar": {
              "outlinewidth": 0,
              "ticks": ""
             }
            },
            "type": "scattergeo"
           }
          ],
          "scattergl": [
           {
            "marker": {
             "colorbar": {
              "outlinewidth": 0,
              "ticks": ""
             }
            },
            "type": "scattergl"
           }
          ],
          "scattermap": [
           {
            "marker": {
             "colorbar": {
              "outlinewidth": 0,
              "ticks": ""
             }
            },
            "type": "scattermap"
           }
          ],
          "scattermapbox": [
           {
            "marker": {
             "colorbar": {
              "outlinewidth": 0,
              "ticks": ""
             }
            },
            "type": "scattermapbox"
           }
          ],
          "scatterpolar": [
           {
            "marker": {
             "colorbar": {
              "outlinewidth": 0,
              "ticks": ""
             }
            },
            "type": "scatterpolar"
           }
          ],
          "scatterpolargl": [
           {
            "marker": {
             "colorbar": {
              "outlinewidth": 0,
              "ticks": ""
             }
            },
            "type": "scatterpolargl"
           }
          ],
          "scatterternary": [
           {
            "marker": {
             "colorbar": {
              "outlinewidth": 0,
              "ticks": ""
             }
            },
            "type": "scatterternary"
           }
          ],
          "surface": [
           {
            "colorbar": {
             "outlinewidth": 0,
             "ticks": ""
            },
            "colorscale": [
             [
              0,
              "#0d0887"
             ],
             [
              0.1111111111111111,
              "#46039f"
             ],
             [
              0.2222222222222222,
              "#7201a8"
             ],
             [
              0.3333333333333333,
              "#9c179e"
             ],
             [
              0.4444444444444444,
              "#bd3786"
             ],
             [
              0.5555555555555556,
              "#d8576b"
             ],
             [
              0.6666666666666666,
              "#ed7953"
             ],
             [
              0.7777777777777778,
              "#fb9f3a"
             ],
             [
              0.8888888888888888,
              "#fdca26"
             ],
             [
              1,
              "#f0f921"
             ]
            ],
            "type": "surface"
           }
          ],
          "table": [
           {
            "cells": {
             "fill": {
              "color": "#EBF0F8"
             },
             "line": {
              "color": "white"
             }
            },
            "header": {
             "fill": {
              "color": "#C8D4E3"
             },
             "line": {
              "color": "white"
             }
            },
            "type": "table"
           }
          ]
         },
         "layout": {
          "annotationdefaults": {
           "arrowcolor": "#2a3f5f",
           "arrowhead": 0,
           "arrowwidth": 1
          },
          "autotypenumbers": "strict",
          "coloraxis": {
           "colorbar": {
            "outlinewidth": 0,
            "ticks": ""
           }
          },
          "colorscale": {
           "diverging": [
            [
             0,
             "#8e0152"
            ],
            [
             0.1,
             "#c51b7d"
            ],
            [
             0.2,
             "#de77ae"
            ],
            [
             0.3,
             "#f1b6da"
            ],
            [
             0.4,
             "#fde0ef"
            ],
            [
             0.5,
             "#f7f7f7"
            ],
            [
             0.6,
             "#e6f5d0"
            ],
            [
             0.7,
             "#b8e186"
            ],
            [
             0.8,
             "#7fbc41"
            ],
            [
             0.9,
             "#4d9221"
            ],
            [
             1,
             "#276419"
            ]
           ],
           "sequential": [
            [
             0,
             "#0d0887"
            ],
            [
             0.1111111111111111,
             "#46039f"
            ],
            [
             0.2222222222222222,
             "#7201a8"
            ],
            [
             0.3333333333333333,
             "#9c179e"
            ],
            [
             0.4444444444444444,
             "#bd3786"
            ],
            [
             0.5555555555555556,
             "#d8576b"
            ],
            [
             0.6666666666666666,
             "#ed7953"
            ],
            [
             0.7777777777777778,
             "#fb9f3a"
            ],
            [
             0.8888888888888888,
             "#fdca26"
            ],
            [
             1,
             "#f0f921"
            ]
           ],
           "sequentialminus": [
            [
             0,
             "#0d0887"
            ],
            [
             0.1111111111111111,
             "#46039f"
            ],
            [
             0.2222222222222222,
             "#7201a8"
            ],
            [
             0.3333333333333333,
             "#9c179e"
            ],
            [
             0.4444444444444444,
             "#bd3786"
            ],
            [
             0.5555555555555556,
             "#d8576b"
            ],
            [
             0.6666666666666666,
             "#ed7953"
            ],
            [
             0.7777777777777778,
             "#fb9f3a"
            ],
            [
             0.8888888888888888,
             "#fdca26"
            ],
            [
             1,
             "#f0f921"
            ]
           ]
          },
          "colorway": [
           "#636efa",
           "#EF553B",
           "#00cc96",
           "#ab63fa",
           "#FFA15A",
           "#19d3f3",
           "#FF6692",
           "#B6E880",
           "#FF97FF",
           "#FECB52"
          ],
          "font": {
           "color": "#2a3f5f"
          },
          "geo": {
           "bgcolor": "white",
           "lakecolor": "white",
           "landcolor": "#E5ECF6",
           "showlakes": true,
           "showland": true,
           "subunitcolor": "white"
          },
          "hoverlabel": {
           "align": "left"
          },
          "hovermode": "closest",
          "mapbox": {
           "style": "light"
          },
          "paper_bgcolor": "white",
          "plot_bgcolor": "#E5ECF6",
          "polar": {
           "angularaxis": {
            "gridcolor": "white",
            "linecolor": "white",
            "ticks": ""
           },
           "bgcolor": "#E5ECF6",
           "radialaxis": {
            "gridcolor": "white",
            "linecolor": "white",
            "ticks": ""
           }
          },
          "scene": {
           "xaxis": {
            "backgroundcolor": "#E5ECF6",
            "gridcolor": "white",
            "gridwidth": 2,
            "linecolor": "white",
            "showbackground": true,
            "ticks": "",
            "zerolinecolor": "white"
           },
           "yaxis": {
            "backgroundcolor": "#E5ECF6",
            "gridcolor": "white",
            "gridwidth": 2,
            "linecolor": "white",
            "showbackground": true,
            "ticks": "",
            "zerolinecolor": "white"
           },
           "zaxis": {
            "backgroundcolor": "#E5ECF6",
            "gridcolor": "white",
            "gridwidth": 2,
            "linecolor": "white",
            "showbackground": true,
            "ticks": "",
            "zerolinecolor": "white"
           }
          },
          "shapedefaults": {
           "line": {
            "color": "#2a3f5f"
           }
          },
          "ternary": {
           "aaxis": {
            "gridcolor": "white",
            "linecolor": "white",
            "ticks": ""
           },
           "baxis": {
            "gridcolor": "white",
            "linecolor": "white",
            "ticks": ""
           },
           "bgcolor": "#E5ECF6",
           "caxis": {
            "gridcolor": "white",
            "linecolor": "white",
            "ticks": ""
           }
          },
          "title": {
           "x": 0.05
          },
          "xaxis": {
           "automargin": true,
           "gridcolor": "white",
           "linecolor": "white",
           "ticks": "",
           "title": {
            "standoff": 15
           },
           "zerolinecolor": "white",
           "zerolinewidth": 2
          },
          "yaxis": {
           "automargin": true,
           "gridcolor": "white",
           "linecolor": "white",
           "ticks": "",
           "title": {
            "standoff": 15
           },
           "zerolinecolor": "white",
           "zerolinewidth": 2
          }
         }
        },
        "title": {
         "text": "Distribution of Data Job Categories"
        }
       }
      }
     },
     "metadata": {},
     "output_type": "display_data"
    },
    {
     "name": "stdout",
     "output_type": "stream",
     "text": [
      "\n",
      "=== SKILLS BY JOB CATEGORY ===\n",
      "\n",
      "Data Analyst - Top Skills:\n",
      "  r: 17 (100.0%)\n",
      "  sql: 12 (70.6%)\n",
      "  go: 11 (64.7%)\n",
      "  python: 10 (58.8%)\n",
      "  excel: 10 (58.8%)\n",
      "\n",
      "Other - Top Skills:\n",
      "  r: 14 (100.0%)\n",
      "  go: 8 (57.1%)\n",
      "  excel: 8 (57.1%)\n",
      "  sql: 6 (42.9%)\n",
      "  python: 5 (35.7%)\n",
      "\n",
      "Management/Leadership - Top Skills:\n",
      "  r: 9 (100.0%)\n",
      "  go: 8 (88.9%)\n",
      "  analytics: 6 (66.7%)\n",
      "  excel: 6 (66.7%)\n",
      "  sql: 3 (33.3%)\n",
      "\n",
      "Data Scientist - Top Skills:\n",
      "  r: 7 (100.0%)\n",
      "  go: 6 (85.7%)\n",
      "  python: 5 (71.4%)\n",
      "  machine learning: 5 (71.4%)\n",
      "  statistics: 5 (71.4%)\n",
      "\n",
      "Data Engineer - Top Skills:\n",
      "  r: 6 (85.7%)\n",
      "  python: 5 (71.4%)\n",
      "  go: 4 (57.1%)\n",
      "  tensorflow: 3 (42.9%)\n",
      "  pytorch: 3 (42.9%)\n",
      "\n",
      "Internship - Top Skills:\n",
      "  r: 5 (100.0%)\n",
      "  excel: 3 (60.0%)\n",
      "  go: 3 (60.0%)\n",
      "  sas: 2 (40.0%)\n",
      "  sql: 1 (20.0%)\n",
      "\n",
      "Research - Top Skills:\n",
      "  r: 1 (100.0%)\n",
      "  go: 1 (100.0%)\n",
      "  excel: 1 (100.0%)\n"
     ]
    }
   ],
   "source": [
    "# Additional analysis - Job role patterns and company insights\n",
    "def categorize_job_role(title):\n",
    "    \"\"\"Categorize job titles into broader role types\"\"\"\n",
    "    title_lower = title.lower()\n",
    "    \n",
    "    if any(word in title_lower for word in ['data scientist', 'scientist']):\n",
    "        return 'Data Scientist'\n",
    "    elif any(word in title_lower for word in ['data engineer', 'engineer']):\n",
    "        return 'Data Engineer'\n",
    "    elif any(word in title_lower for word in ['analyst', 'analytics']):\n",
    "        return 'Data Analyst'\n",
    "    elif any(word in title_lower for word in ['manager', 'lead', 'head']):\n",
    "        return 'Management/Leadership'\n",
    "    elif any(word in title_lower for word in ['intern', 'internship']):\n",
    "        return 'Internship'\n",
    "    elif any(word in title_lower for word in ['research', 'researcher']):\n",
    "        return 'Research'\n",
    "    else:\n",
    "        return 'Other'\n",
    "\n",
    "# Categorize job roles\n",
    "df['job_category'] = df['title'].apply(categorize_job_role)\n",
    "role_distribution = df['job_category'].value_counts()\n",
    "\n",
    "print(\"=== JOB ROLE CATEGORIES ===\")\n",
    "for role, count in role_distribution.items():\n",
    "    print(f\"{role}: {count} jobs ({count/len(df)*100:.1f}%)\")\n",
    "\n",
    "# Create interactive plot for job categories\n",
    "fig_roles = px.pie(\n",
    "    values=role_distribution.values, \n",
    "    names=role_distribution.index,\n",
    "    title=\"Distribution of Data Job Categories\",\n",
    "    color_discrete_sequence=px.colors.qualitative.Set3\n",
    ")\n",
    "fig_roles.update_traces(textposition='inside', textinfo='percent+label')\n",
    "fig_roles.show()\n",
    "\n",
    "# Analyze skills by job category\n",
    "print(\"\\n=== SKILLS BY JOB CATEGORY ===\")\n",
    "for category in role_distribution.index:\n",
    "    category_jobs = df[df['job_category'] == category]\n",
    "    category_skills = []\n",
    "    \n",
    "    for idx in category_jobs.index:\n",
    "        category_skills.extend(extracted_data.iloc[idx]['skills'])\n",
    "    \n",
    "    if category_skills:\n",
    "        category_skill_counts = Counter(category_skills)\n",
    "        top_category_skills = category_skill_counts.most_common(5)\n",
    "        print(f\"\\n{category} - Top Skills:\")\n",
    "        for skill, count in top_category_skills:\n",
    "            print(f\"  {skill}: {count} ({count/len(category_jobs)*100:.1f}%)\")\n",
    "    else:\n",
    "        print(f\"\\n{category}: No specific skills extracted\")"
   ]
  },
  {
   "cell_type": "code",
   "execution_count": 10,
   "id": "0dd08afc",
   "metadata": {},
   "outputs": [
    {
     "name": "stdout",
     "output_type": "stream",
     "text": [
      "================================================================================\n",
      "                    LINKEDIN DATA JOBS ANALYSIS SUMMARY\n",
      "================================================================================\n",
      "\n",
      "📊 DATASET OVERVIEW:\n",
      "• Total Jobs Analyzed: 60\n",
      "• Date Range: 2025-09-01 to 2025-09-30\n",
      "• Unique Companies: 48\n",
      "• Unique Locations: 18\n",
      "• Job Categories Identified: 7\n",
      "\n",
      "\n",
      "🏢 TOP EMPLOYERS:\n",
      "• Shopee: 7 jobs (Leading recruiter)\n",
      "• ĐÚNG NGƯỜI ĐÚNG VIỆC Community: 3 jobs\n",
      "• Unilever: 2 jobs\n",
      "• Other notable: Procter & Gamble, HEINEKEN Vietnam, Google\n",
      "\n",
      "\n",
      "📍 GEOGRAPHIC INSIGHTS:\n",
      "• Primary Market: Ho Chi Minh City, Vietnam (42 jobs)\n",
      "• Secondary Markets: Hanoi, Da Nang\n",
      "• Market Concentration: 70.0% of jobs in HCMC area\n",
      "\n",
      "\n",
      "💼 JOB MARKET STRUCTURE:\n",
      "• Full-time positions: 49 (81.7%)\n",
      "• Entry-level opportunities: 16 jobs\n",
      "• Mid-Senior level: 24 jobs\n",
      "• Internships available: 5 positions\n",
      "\n",
      "\n",
      "🎯 ROLE DISTRIBUTION:\n",
      "• Data Analyst: 17 jobs (28.3%) - Highest demand\n",
      "• Data Scientist: 7 jobs (11.7%)\n",
      "• Data Engineer: 7 jobs (11.7%)\n",
      "• Management/Leadership: 9 jobs (15.0%)\n",
      "\n",
      "\n",
      "🛠️ CRITICAL SKILLS DEMAND:\n",
      "• Universal Skills: R (98.3%), Excel (56.7%)\n",
      "• Programming: Python (46.7%), SQL (46.7%)\n",
      "• Analytics: General Analytics (30.0%), Statistics (20.0%)\n",
      "• ML/AI: Machine Learning (20.0%), TensorFlow (13.3%), PyTorch (13.3%)\n",
      "• Visualization: Power BI (18.3%), Tableau (15.0%)\n",
      "\n",
      "\n",
      "📈 EXPERIENCE REQUIREMENTS:\n",
      "• Most Common: 5+ years experience (40% of specified requirements)\n",
      "• Entry Level: 1-2 years (26.7% combined)\n",
      "• Senior Level: 3+ years (60% combined)\n",
      "• Education: Bachelor's degree most common requirement\n",
      "\n",
      "\n",
      "💰 BENEFITS & PERKS:\n",
      "• Development opportunities: 37 jobs (61.7%)\n",
      "• Training programs: 19 jobs (31.7%)\n",
      "• Competitive salary: 13 jobs (21.7%)\n",
      "• Flexible work: 12 jobs (20.0%)\n",
      "• Health benefits: 10 jobs (16.7%)\n",
      "\n",
      "================================================================================\n",
      "                    KEY RECOMMENDATIONS\n",
      "================================================================================\n",
      "\n",
      "🎯 FOR JOB SEEKERS:\n",
      "\n",
      "1. SKILL PRIORITIES:\n",
      "   ✅ Master R programming (mentioned in 98% of jobs)\n",
      "   ✅ Develop strong SQL and Python skills (46% each)\n",
      "   ✅ Learn Excel for data manipulation (57% of jobs)\n",
      "   ✅ Focus on analytics and statistics fundamentals\n",
      "\n",
      "2. CAREER PATHS:\n",
      "   📊 Data Analyst - Highest demand (28% of roles)\n",
      "   🧠 Data Scientist - Competitive field (12% of roles)\n",
      "   🔧 Data Engineer - Growing demand (12% of roles)\n",
      "   👔 Management - Leadership opportunities (15% of roles)\n",
      "\n",
      "3. EXPERIENCE STRATEGY:\n",
      "   • Entry Level: Target 1-2 years experience roles\n",
      "   • Mid-Career: 3-5 years experience most in demand\n",
      "   • Focus on practical project experience\n",
      "\n",
      "4. EDUCATION:\n",
      "   • Bachelor's degree minimum requirement\n",
      "   • Consider specialized data science programs\n",
      "   • Continuous learning through training programs\n",
      "\n",
      "5. LOCATION STRATEGY:\n",
      "   • Ho Chi Minh City: Primary job market (70%+ of opportunities)\n",
      "   • Hanoi: Secondary market with growing opportunities\n",
      "   • Consider remote work options when available\n",
      "\n",
      "\n",
      "🏢 FOR EMPLOYERS/RECRUITERS:\n",
      "\n",
      "1. TALENT COMPETITION:\n",
      "   • High demand for R and Python skilled professionals\n",
      "   • Consider training programs for skill development\n",
      "   • Emphasize development opportunities (61% mention this)\n",
      "\n",
      "2. MARKET POSITIONING:\n",
      "   • Highlight flexible work arrangements\n",
      "   • Offer comprehensive training programs\n",
      "   • Competitive salary packages important\n",
      "\n",
      "3. SKILL GAPS TO ADDRESS:\n",
      "   • Cloud platforms (AWS mentioned in only 10% of jobs)\n",
      "   • Advanced ML/AI skills (moderate demand vs. basic analytics)\n",
      "   • Visualization tools beyond Excel\n",
      "\n",
      "4. GEOGRAPHIC INSIGHTS:\n",
      "   • HCMC remains primary market\n",
      "   • Consider expansion to other Vietnamese cities\n",
      "   • Remote work becoming more relevant\n",
      "\n",
      "================================================================================\n"
     ]
    }
   ],
   "source": [
    "# Comprehensive Summary and Insights\n",
    "print(\"=\"*80)\n",
    "print(\"                    LINKEDIN DATA JOBS ANALYSIS SUMMARY\")\n",
    "print(\"=\"*80)\n",
    "\n",
    "print(f\"\"\"\n",
    "📊 DATASET OVERVIEW:\n",
    "• Total Jobs Analyzed: {len(df)}\n",
    "• Date Range: {df['postDate'].min().strftime('%Y-%m-%d')} to {df['postDate'].max().strftime('%Y-%m-%d')}\n",
    "• Unique Companies: {df['company'].nunique()}\n",
    "• Unique Locations: {df['location'].nunique()}\n",
    "• Job Categories Identified: {len(role_distribution)}\n",
    "\"\"\")\n",
    "\n",
    "print(f\"\"\"\n",
    "🏢 TOP EMPLOYERS:\n",
    "• Shopee: {df[df['company']=='Shopee'].shape[0]} jobs (Leading recruiter)\n",
    "• ĐÚNG NGƯỜI ĐÚNG VIỆC Community: {df[df['company']=='ĐÚNG NGƯỜI ĐÚNG VIỆC Community'].shape[0]} jobs\n",
    "• Unilever: {df[df['company']=='Unilever'].shape[0]} jobs\n",
    "• Other notable: Procter & Gamble, HEINEKEN Vietnam, Google\n",
    "\"\"\")\n",
    "\n",
    "print(f\"\"\"\n",
    "📍 GEOGRAPHIC INSIGHTS:\n",
    "• Primary Market: Ho Chi Minh City, Vietnam ({df[df['location'].str.contains('Ho Chi Minh', na=False)].shape[0]} jobs)\n",
    "• Secondary Markets: Hanoi, Da Nang\n",
    "• Market Concentration: {(df[df['location'].str.contains('Ho Chi Minh', na=False)].shape[0]/len(df)*100):.1f}% of jobs in HCMC area\n",
    "\"\"\")\n",
    "\n",
    "print(f\"\"\"\n",
    "💼 JOB MARKET STRUCTURE:\n",
    "• Full-time positions: {(df['employmentType']=='Toàn thời gian').sum()} ({(df['employmentType']=='Toàn thời gian').sum()/len(df)*100:.1f}%)\n",
    "• Entry-level opportunities: {(df['experienceLevel']=='Entry level').sum()} jobs\n",
    "• Mid-Senior level: {(df['experienceLevel']=='Mid-Senior level').sum()} jobs\n",
    "• Internships available: {(df['employmentType']=='Thực tập').sum()} positions\n",
    "\"\"\")\n",
    "\n",
    "print(f\"\"\"\n",
    "🎯 ROLE DISTRIBUTION:\n",
    "• Data Analyst: {role_distribution['Data Analyst']} jobs (28.3%) - Highest demand\n",
    "• Data Scientist: {role_distribution['Data Scientist']} jobs (11.7%)\n",
    "• Data Engineer: {role_distribution['Data Engineer']} jobs (11.7%)\n",
    "• Management/Leadership: {role_distribution['Management/Leadership']} jobs (15.0%)\n",
    "\"\"\")\n",
    "\n",
    "print(f\"\"\"\n",
    "🛠️ CRITICAL SKILLS DEMAND:\n",
    "• Universal Skills: R (98.3%), Excel (56.7%)\n",
    "• Programming: Python (46.7%), SQL (46.7%)\n",
    "• Analytics: General Analytics (30.0%), Statistics (20.0%)\n",
    "• ML/AI: Machine Learning (20.0%), TensorFlow (13.3%), PyTorch (13.3%)\n",
    "• Visualization: Power BI (18.3%), Tableau (15.0%)\n",
    "\"\"\")\n",
    "\n",
    "print(f\"\"\"\n",
    "📈 EXPERIENCE REQUIREMENTS:\n",
    "• Most Common: 5+ years experience (40% of specified requirements)\n",
    "• Entry Level: 1-2 years (26.7% combined)\n",
    "• Senior Level: 3+ years (60% combined)\n",
    "• Education: Bachelor's degree most common requirement\n",
    "\"\"\")\n",
    "\n",
    "print(f\"\"\"\n",
    "💰 BENEFITS & PERKS:\n",
    "• Development opportunities: {benefit_counts['development']} jobs (61.7%)\n",
    "• Training programs: {benefit_counts['training']} jobs (31.7%)\n",
    "• Competitive salary: {benefit_counts['salary']} jobs (21.7%)\n",
    "• Flexible work: {benefit_counts['flexible']} jobs (20.0%)\n",
    "• Health benefits: {benefit_counts['health']} jobs (16.7%)\n",
    "\"\"\")\n",
    "\n",
    "print(\"=\"*80)\n",
    "print(\"                    KEY RECOMMENDATIONS\")\n",
    "print(\"=\"*80)\n",
    "\n",
    "print(f\"\"\"\n",
    "🎯 FOR JOB SEEKERS:\n",
    "\n",
    "1. SKILL PRIORITIES:\n",
    "   ✅ Master R programming (mentioned in 98% of jobs)\n",
    "   ✅ Develop strong SQL and Python skills (46% each)\n",
    "   ✅ Learn Excel for data manipulation (57% of jobs)\n",
    "   ✅ Focus on analytics and statistics fundamentals\n",
    "\n",
    "2. CAREER PATHS:\n",
    "   📊 Data Analyst - Highest demand (28% of roles)\n",
    "   🧠 Data Scientist - Competitive field (12% of roles)\n",
    "   🔧 Data Engineer - Growing demand (12% of roles)\n",
    "   👔 Management - Leadership opportunities (15% of roles)\n",
    "\n",
    "3. EXPERIENCE STRATEGY:\n",
    "   • Entry Level: Target 1-2 years experience roles\n",
    "   • Mid-Career: 3-5 years experience most in demand\n",
    "   • Focus on practical project experience\n",
    "\n",
    "4. EDUCATION:\n",
    "   • Bachelor's degree minimum requirement\n",
    "   • Consider specialized data science programs\n",
    "   • Continuous learning through training programs\n",
    "\n",
    "5. LOCATION STRATEGY:\n",
    "   • Ho Chi Minh City: Primary job market (70%+ of opportunities)\n",
    "   • Hanoi: Secondary market with growing opportunities\n",
    "   • Consider remote work options when available\n",
    "\"\"\")\n",
    "\n",
    "print(f\"\"\"\n",
    "🏢 FOR EMPLOYERS/RECRUITERS:\n",
    "\n",
    "1. TALENT COMPETITION:\n",
    "   • High demand for R and Python skilled professionals\n",
    "   • Consider training programs for skill development\n",
    "   • Emphasize development opportunities (61% mention this)\n",
    "\n",
    "2. MARKET POSITIONING:\n",
    "   • Highlight flexible work arrangements\n",
    "   • Offer comprehensive training programs\n",
    "   • Competitive salary packages important\n",
    "\n",
    "3. SKILL GAPS TO ADDRESS:\n",
    "   • Cloud platforms (AWS mentioned in only 10% of jobs)\n",
    "   • Advanced ML/AI skills (moderate demand vs. basic analytics)\n",
    "   • Visualization tools beyond Excel\n",
    "\n",
    "4. GEOGRAPHIC INSIGHTS:\n",
    "   • HCMC remains primary market\n",
    "   • Consider expansion to other Vietnamese cities\n",
    "   • Remote work becoming more relevant\n",
    "\"\"\")\n",
    "\n",
    "print(\"=\"*80)"
   ]
  }
 ],
 "metadata": {
  "kernelspec": {
   "display_name": "Python 3",
   "language": "python",
   "name": "python3"
  },
  "language_info": {
   "codemirror_mode": {
    "name": "ipython",
    "version": 3
   },
   "file_extension": ".py",
   "mimetype": "text/x-python",
   "name": "python",
   "nbconvert_exporter": "python",
   "pygments_lexer": "ipython3",
   "version": "3.10.0"
  }
 },
 "nbformat": 4,
 "nbformat_minor": 5
}
